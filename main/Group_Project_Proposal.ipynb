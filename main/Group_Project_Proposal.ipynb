{
 "cells": [
  {
   "cell_type": "markdown",
   "metadata": {},
   "source": [
    "# Project Proposal: Group_24"
   ]
  },
  {
   "cell_type": "code",
   "execution_count": null,
   "metadata": {},
   "outputs": [],
   "source": [
    "#Load Necessary Packages for modelling.\n",
    "library(tidyverse)\n",
    "library(repr)\n",
    "library(tidymodels)\n",
    "library(\"readxl\")\n",
    "install.packages(\"qwraps2\")\n",
    "library(qwraps2)\n",
    "# define the markup language we are working in.\n",
    "# options(qwraps2_markup = \"latex\") is also supported.\n",
    "options(qwraps2_markup = \"markdown\")"
   ]
  },
  {
   "cell_type": "markdown",
   "metadata": {},
   "source": [
    "## Introduction\n",
    "\n",
    "We have chosen a publicly-available dataset from the UCI Machine Learning Repository. The particular dataset is about dry beans and the measurements and data are collected from Selcuk University in Turkey. The dataset includes 13,611 images of grains of 7 different registered dry beans that were taken with a high-resolution camera. Using this dataset, we aim to create a classification model that can predict new observations and photos of the 7 registered dry beans given to it. \n",
    "\n",
    "## Methods\n",
    "\n",
    "We will split our data into training and test datasets with 75% of our data being in the training dataset and 25% being in the testing dataset. We will then further split our training set to perform a five-fold cross-validation. Next, we will create our recipe to pass our training data using these variables as predictors: Aspect ratio (K), Eccentricity (Ec), Convex area (C), Equivalent diameter (Ed), Extent (Ex) , Solidity (S), Roundness (R), and Compactness (CO). These eight predictors measure some aspects of the shoe and size of the dry beans. Next we will create a nearest-neighbors model specification with neighbor = tune(). To estimate the accuracy for 10 K values, we will compute the recipe and the model specification with workflow() while using the tune_grid function on the training data. Choosing the K-value that has the highest accuracy estimate, we will create a new model specification to retrain our classifier with the fit() function. Then using the predict function, we will check the estimated accuracy of our model on the testing dataset. We plan to visualize our results with scatterplots. "
   ]
  },
  {
   "cell_type": "markdown",
   "metadata": {},
   "source": [
    "## Preliminary Exploratory Data Analysis\n",
    "### Importing Data\n",
    "\n",
    "We use the following code to import our dataset from the web:"
   ]
  },
  {
   "cell_type": "code",
   "execution_count": 8,
   "metadata": {},
   "outputs": [
    {
     "data": {
      "text/html": [
       "<table>\n",
       "<caption>A tibble: 6 × 17</caption>\n",
       "<thead>\n",
       "\t<tr><th scope=col>Area</th><th scope=col>Perimeter</th><th scope=col>MajorAxisLength</th><th scope=col>MinorAxisLength</th><th scope=col>AspectRation</th><th scope=col>Eccentricity</th><th scope=col>ConvexArea</th><th scope=col>EquivDiameter</th><th scope=col>Extent</th><th scope=col>Solidity</th><th scope=col>roundness</th><th scope=col>Compactness</th><th scope=col>ShapeFactor1</th><th scope=col>ShapeFactor2</th><th scope=col>ShapeFactor3</th><th scope=col>ShapeFactor4</th><th scope=col>Class</th></tr>\n",
       "\t<tr><th scope=col>&lt;dbl&gt;</th><th scope=col>&lt;dbl&gt;</th><th scope=col>&lt;dbl&gt;</th><th scope=col>&lt;dbl&gt;</th><th scope=col>&lt;dbl&gt;</th><th scope=col>&lt;dbl&gt;</th><th scope=col>&lt;dbl&gt;</th><th scope=col>&lt;dbl&gt;</th><th scope=col>&lt;dbl&gt;</th><th scope=col>&lt;dbl&gt;</th><th scope=col>&lt;dbl&gt;</th><th scope=col>&lt;dbl&gt;</th><th scope=col>&lt;dbl&gt;</th><th scope=col>&lt;dbl&gt;</th><th scope=col>&lt;dbl&gt;</th><th scope=col>&lt;dbl&gt;</th><th scope=col>&lt;chr&gt;</th></tr>\n",
       "</thead>\n",
       "<tbody>\n",
       "\t<tr><td>28395</td><td>610.291</td><td>208.1781</td><td>173.8887</td><td>1.197191</td><td>0.5498122</td><td>28715</td><td>190.1411</td><td>0.7639225</td><td>0.9888560</td><td>0.9580271</td><td>0.9133578</td><td>0.007331506</td><td>0.003147289</td><td>0.8342224</td><td>0.9987239</td><td>SEKER</td></tr>\n",
       "\t<tr><td>28734</td><td>638.018</td><td>200.5248</td><td>182.7344</td><td>1.097356</td><td>0.4117853</td><td>29172</td><td>191.2728</td><td>0.7839681</td><td>0.9849856</td><td>0.8870336</td><td>0.9538608</td><td>0.006978659</td><td>0.003563624</td><td>0.9098505</td><td>0.9984303</td><td>SEKER</td></tr>\n",
       "\t<tr><td>29380</td><td>624.110</td><td>212.8261</td><td>175.9311</td><td>1.209713</td><td>0.5627273</td><td>29690</td><td>193.4109</td><td>0.7781132</td><td>0.9895588</td><td>0.9478495</td><td>0.9087742</td><td>0.007243912</td><td>0.003047733</td><td>0.8258706</td><td>0.9990661</td><td>SEKER</td></tr>\n",
       "\t<tr><td>30008</td><td>645.884</td><td>210.5580</td><td>182.5165</td><td>1.153638</td><td>0.4986160</td><td>30724</td><td>195.4671</td><td>0.7826813</td><td>0.9766957</td><td>0.9039364</td><td>0.9283288</td><td>0.007016729</td><td>0.003214562</td><td>0.8617944</td><td>0.9941988</td><td>SEKER</td></tr>\n",
       "\t<tr><td>30140</td><td>620.134</td><td>201.8479</td><td>190.2793</td><td>1.060798</td><td>0.3336797</td><td>30417</td><td>195.8965</td><td>0.7730980</td><td>0.9908933</td><td>0.9848771</td><td>0.9705155</td><td>0.006697010</td><td>0.003664972</td><td>0.9419004</td><td>0.9991661</td><td>SEKER</td></tr>\n",
       "\t<tr><td>30279</td><td>634.927</td><td>212.5606</td><td>181.5102</td><td>1.171067</td><td>0.5204007</td><td>30600</td><td>196.3477</td><td>0.7756885</td><td>0.9895098</td><td>0.9438518</td><td>0.9237260</td><td>0.007020065</td><td>0.003152779</td><td>0.8532696</td><td>0.9992358</td><td>SEKER</td></tr>\n",
       "</tbody>\n",
       "</table>\n"
      ],
      "text/latex": [
       "A tibble: 6 × 17\n",
       "\\begin{tabular}{lllllllllllllllll}\n",
       " Area & Perimeter & MajorAxisLength & MinorAxisLength & AspectRation & Eccentricity & ConvexArea & EquivDiameter & Extent & Solidity & roundness & Compactness & ShapeFactor1 & ShapeFactor2 & ShapeFactor3 & ShapeFactor4 & Class\\\\\n",
       " <dbl> & <dbl> & <dbl> & <dbl> & <dbl> & <dbl> & <dbl> & <dbl> & <dbl> & <dbl> & <dbl> & <dbl> & <dbl> & <dbl> & <dbl> & <dbl> & <chr>\\\\\n",
       "\\hline\n",
       "\t 28395 & 610.291 & 208.1781 & 173.8887 & 1.197191 & 0.5498122 & 28715 & 190.1411 & 0.7639225 & 0.9888560 & 0.9580271 & 0.9133578 & 0.007331506 & 0.003147289 & 0.8342224 & 0.9987239 & SEKER\\\\\n",
       "\t 28734 & 638.018 & 200.5248 & 182.7344 & 1.097356 & 0.4117853 & 29172 & 191.2728 & 0.7839681 & 0.9849856 & 0.8870336 & 0.9538608 & 0.006978659 & 0.003563624 & 0.9098505 & 0.9984303 & SEKER\\\\\n",
       "\t 29380 & 624.110 & 212.8261 & 175.9311 & 1.209713 & 0.5627273 & 29690 & 193.4109 & 0.7781132 & 0.9895588 & 0.9478495 & 0.9087742 & 0.007243912 & 0.003047733 & 0.8258706 & 0.9990661 & SEKER\\\\\n",
       "\t 30008 & 645.884 & 210.5580 & 182.5165 & 1.153638 & 0.4986160 & 30724 & 195.4671 & 0.7826813 & 0.9766957 & 0.9039364 & 0.9283288 & 0.007016729 & 0.003214562 & 0.8617944 & 0.9941988 & SEKER\\\\\n",
       "\t 30140 & 620.134 & 201.8479 & 190.2793 & 1.060798 & 0.3336797 & 30417 & 195.8965 & 0.7730980 & 0.9908933 & 0.9848771 & 0.9705155 & 0.006697010 & 0.003664972 & 0.9419004 & 0.9991661 & SEKER\\\\\n",
       "\t 30279 & 634.927 & 212.5606 & 181.5102 & 1.171067 & 0.5204007 & 30600 & 196.3477 & 0.7756885 & 0.9895098 & 0.9438518 & 0.9237260 & 0.007020065 & 0.003152779 & 0.8532696 & 0.9992358 & SEKER\\\\\n",
       "\\end{tabular}\n"
      ],
      "text/markdown": [
       "\n",
       "A tibble: 6 × 17\n",
       "\n",
       "| Area &lt;dbl&gt; | Perimeter &lt;dbl&gt; | MajorAxisLength &lt;dbl&gt; | MinorAxisLength &lt;dbl&gt; | AspectRation &lt;dbl&gt; | Eccentricity &lt;dbl&gt; | ConvexArea &lt;dbl&gt; | EquivDiameter &lt;dbl&gt; | Extent &lt;dbl&gt; | Solidity &lt;dbl&gt; | roundness &lt;dbl&gt; | Compactness &lt;dbl&gt; | ShapeFactor1 &lt;dbl&gt; | ShapeFactor2 &lt;dbl&gt; | ShapeFactor3 &lt;dbl&gt; | ShapeFactor4 &lt;dbl&gt; | Class &lt;chr&gt; |\n",
       "|---|---|---|---|---|---|---|---|---|---|---|---|---|---|---|---|---|\n",
       "| 28395 | 610.291 | 208.1781 | 173.8887 | 1.197191 | 0.5498122 | 28715 | 190.1411 | 0.7639225 | 0.9888560 | 0.9580271 | 0.9133578 | 0.007331506 | 0.003147289 | 0.8342224 | 0.9987239 | SEKER |\n",
       "| 28734 | 638.018 | 200.5248 | 182.7344 | 1.097356 | 0.4117853 | 29172 | 191.2728 | 0.7839681 | 0.9849856 | 0.8870336 | 0.9538608 | 0.006978659 | 0.003563624 | 0.9098505 | 0.9984303 | SEKER |\n",
       "| 29380 | 624.110 | 212.8261 | 175.9311 | 1.209713 | 0.5627273 | 29690 | 193.4109 | 0.7781132 | 0.9895588 | 0.9478495 | 0.9087742 | 0.007243912 | 0.003047733 | 0.8258706 | 0.9990661 | SEKER |\n",
       "| 30008 | 645.884 | 210.5580 | 182.5165 | 1.153638 | 0.4986160 | 30724 | 195.4671 | 0.7826813 | 0.9766957 | 0.9039364 | 0.9283288 | 0.007016729 | 0.003214562 | 0.8617944 | 0.9941988 | SEKER |\n",
       "| 30140 | 620.134 | 201.8479 | 190.2793 | 1.060798 | 0.3336797 | 30417 | 195.8965 | 0.7730980 | 0.9908933 | 0.9848771 | 0.9705155 | 0.006697010 | 0.003664972 | 0.9419004 | 0.9991661 | SEKER |\n",
       "| 30279 | 634.927 | 212.5606 | 181.5102 | 1.171067 | 0.5204007 | 30600 | 196.3477 | 0.7756885 | 0.9895098 | 0.9438518 | 0.9237260 | 0.007020065 | 0.003152779 | 0.8532696 | 0.9992358 | SEKER |\n",
       "\n"
      ],
      "text/plain": [
       "  Area  Perimeter MajorAxisLength MinorAxisLength AspectRation Eccentricity\n",
       "1 28395 610.291   208.1781        173.8887        1.197191     0.5498122   \n",
       "2 28734 638.018   200.5248        182.7344        1.097356     0.4117853   \n",
       "3 29380 624.110   212.8261        175.9311        1.209713     0.5627273   \n",
       "4 30008 645.884   210.5580        182.5165        1.153638     0.4986160   \n",
       "5 30140 620.134   201.8479        190.2793        1.060798     0.3336797   \n",
       "6 30279 634.927   212.5606        181.5102        1.171067     0.5204007   \n",
       "  ConvexArea EquivDiameter Extent    Solidity  roundness Compactness\n",
       "1 28715      190.1411      0.7639225 0.9888560 0.9580271 0.9133578  \n",
       "2 29172      191.2728      0.7839681 0.9849856 0.8870336 0.9538608  \n",
       "3 29690      193.4109      0.7781132 0.9895588 0.9478495 0.9087742  \n",
       "4 30724      195.4671      0.7826813 0.9766957 0.9039364 0.9283288  \n",
       "5 30417      195.8965      0.7730980 0.9908933 0.9848771 0.9705155  \n",
       "6 30600      196.3477      0.7756885 0.9895098 0.9438518 0.9237260  \n",
       "  ShapeFactor1 ShapeFactor2 ShapeFactor3 ShapeFactor4 Class\n",
       "1 0.007331506  0.003147289  0.8342224    0.9987239    SEKER\n",
       "2 0.006978659  0.003563624  0.9098505    0.9984303    SEKER\n",
       "3 0.007243912  0.003047733  0.8258706    0.9990661    SEKER\n",
       "4 0.007016729  0.003214562  0.8617944    0.9941988    SEKER\n",
       "5 0.006697010  0.003664972  0.9419004    0.9991661    SEKER\n",
       "6 0.007020065  0.003152779  0.8532696    0.9992358    SEKER"
      ]
     },
     "metadata": {},
     "output_type": "display_data"
    }
   ],
   "source": [
    "url <- \"https://archive.ics.uci.edu/ml/machine-learning-databases/00602/DryBeanDataset.zip\"\n",
    "download.file(url, \"data.zip\")\n",
    "unzip(\"data.zip\")\n",
    "beans_raw <- read_excel('./DryBeanDataset/Dry_Bean_Dataset.xlsx')\n",
    "head(beans_raw)"
   ]
  },
  {
   "cell_type": "markdown",
   "metadata": {},
   "source": [
    "### Data Cleaning\n",
    "\n",
    "Our raw data is already almost tidy. After confirming there are no missing values, all we need to do is change the type of the class varible from a character to a factor, clean up the varible names, and select only the varibles we will be using."
   ]
  },
  {
   "cell_type": "code",
   "execution_count": 9,
   "metadata": {},
   "outputs": [
    {
     "data": {
      "text/html": [
       "<dl>\n",
       "\t<dt>$Area</dt>\n",
       "\t\t<dd>NULL</dd>\n",
       "\t<dt>$Perimeter</dt>\n",
       "\t\t<dd>NULL</dd>\n",
       "\t<dt>$MajorAxisLength</dt>\n",
       "\t\t<dd>NULL</dd>\n",
       "\t<dt>$MinorAxisLength</dt>\n",
       "\t\t<dd>NULL</dd>\n",
       "\t<dt>$AspectRation</dt>\n",
       "\t\t<dd>NULL</dd>\n",
       "\t<dt>$Eccentricity</dt>\n",
       "\t\t<dd>NULL</dd>\n",
       "\t<dt>$ConvexArea</dt>\n",
       "\t\t<dd>NULL</dd>\n",
       "\t<dt>$EquivDiameter</dt>\n",
       "\t\t<dd>NULL</dd>\n",
       "\t<dt>$Extent</dt>\n",
       "\t\t<dd>NULL</dd>\n",
       "\t<dt>$Solidity</dt>\n",
       "\t\t<dd>NULL</dd>\n",
       "\t<dt>$roundness</dt>\n",
       "\t\t<dd>NULL</dd>\n",
       "\t<dt>$Compactness</dt>\n",
       "\t\t<dd>NULL</dd>\n",
       "\t<dt>$ShapeFactor1</dt>\n",
       "\t\t<dd>NULL</dd>\n",
       "\t<dt>$ShapeFactor2</dt>\n",
       "\t\t<dd>NULL</dd>\n",
       "\t<dt>$ShapeFactor3</dt>\n",
       "\t\t<dd>NULL</dd>\n",
       "\t<dt>$ShapeFactor4</dt>\n",
       "\t\t<dd>NULL</dd>\n",
       "\t<dt>$Class</dt>\n",
       "\t\t<dd>NULL</dd>\n",
       "</dl>\n"
      ],
      "text/latex": [
       "\\begin{description}\n",
       "\\item[\\$Area] NULL\n",
       "\\item[\\$Perimeter] NULL\n",
       "\\item[\\$MajorAxisLength] NULL\n",
       "\\item[\\$MinorAxisLength] NULL\n",
       "\\item[\\$AspectRation] NULL\n",
       "\\item[\\$Eccentricity] NULL\n",
       "\\item[\\$ConvexArea] NULL\n",
       "\\item[\\$EquivDiameter] NULL\n",
       "\\item[\\$Extent] NULL\n",
       "\\item[\\$Solidity] NULL\n",
       "\\item[\\$roundness] NULL\n",
       "\\item[\\$Compactness] NULL\n",
       "\\item[\\$ShapeFactor1] NULL\n",
       "\\item[\\$ShapeFactor2] NULL\n",
       "\\item[\\$ShapeFactor3] NULL\n",
       "\\item[\\$ShapeFactor4] NULL\n",
       "\\item[\\$Class] NULL\n",
       "\\end{description}\n"
      ],
      "text/markdown": [
       "$Area\n",
       ":   NULL\n",
       "$Perimeter\n",
       ":   NULL\n",
       "$MajorAxisLength\n",
       ":   NULL\n",
       "$MinorAxisLength\n",
       ":   NULL\n",
       "$AspectRation\n",
       ":   NULL\n",
       "$Eccentricity\n",
       ":   NULL\n",
       "$ConvexArea\n",
       ":   NULL\n",
       "$EquivDiameter\n",
       ":   NULL\n",
       "$Extent\n",
       ":   NULL\n",
       "$Solidity\n",
       ":   NULL\n",
       "$roundness\n",
       ":   NULL\n",
       "$Compactness\n",
       ":   NULL\n",
       "$ShapeFactor1\n",
       ":   NULL\n",
       "$ShapeFactor2\n",
       ":   NULL\n",
       "$ShapeFactor3\n",
       ":   NULL\n",
       "$ShapeFactor4\n",
       ":   NULL\n",
       "$Class\n",
       ":   NULL\n",
       "\n",
       "\n"
      ],
      "text/plain": [
       "$Area\n",
       "NULL\n",
       "\n",
       "$Perimeter\n",
       "NULL\n",
       "\n",
       "$MajorAxisLength\n",
       "NULL\n",
       "\n",
       "$MinorAxisLength\n",
       "NULL\n",
       "\n",
       "$AspectRation\n",
       "NULL\n",
       "\n",
       "$Eccentricity\n",
       "NULL\n",
       "\n",
       "$ConvexArea\n",
       "NULL\n",
       "\n",
       "$EquivDiameter\n",
       "NULL\n",
       "\n",
       "$Extent\n",
       "NULL\n",
       "\n",
       "$Solidity\n",
       "NULL\n",
       "\n",
       "$roundness\n",
       "NULL\n",
       "\n",
       "$Compactness\n",
       "NULL\n",
       "\n",
       "$ShapeFactor1\n",
       "NULL\n",
       "\n",
       "$ShapeFactor2\n",
       "NULL\n",
       "\n",
       "$ShapeFactor3\n",
       "NULL\n",
       "\n",
       "$ShapeFactor4\n",
       "NULL\n",
       "\n",
       "$Class\n",
       "NULL\n"
      ]
     },
     "metadata": {},
     "output_type": "display_data"
    },
    {
     "data": {
      "text/html": [
       "<table>\n",
       "<caption>A tibble: 6 × 6</caption>\n",
       "<thead>\n",
       "\t<tr><th scope=col>Class</th><th scope=col>Area</th><th scope=col>Perimeter</th><th scope=col>AspectRatio</th><th scope=col>Compactness</th><th scope=col>Roundness</th></tr>\n",
       "\t<tr><th scope=col>&lt;fct&gt;</th><th scope=col>&lt;dbl&gt;</th><th scope=col>&lt;dbl&gt;</th><th scope=col>&lt;dbl&gt;</th><th scope=col>&lt;dbl&gt;</th><th scope=col>&lt;dbl&gt;</th></tr>\n",
       "</thead>\n",
       "<tbody>\n",
       "\t<tr><td>SEKER</td><td>28395</td><td>610.291</td><td>1.197191</td><td>0.9133578</td><td>0.9580271</td></tr>\n",
       "\t<tr><td>SEKER</td><td>28734</td><td>638.018</td><td>1.097356</td><td>0.9538608</td><td>0.8870336</td></tr>\n",
       "\t<tr><td>SEKER</td><td>29380</td><td>624.110</td><td>1.209713</td><td>0.9087742</td><td>0.9478495</td></tr>\n",
       "\t<tr><td>SEKER</td><td>30008</td><td>645.884</td><td>1.153638</td><td>0.9283288</td><td>0.9039364</td></tr>\n",
       "\t<tr><td>SEKER</td><td>30140</td><td>620.134</td><td>1.060798</td><td>0.9705155</td><td>0.9848771</td></tr>\n",
       "\t<tr><td>SEKER</td><td>30279</td><td>634.927</td><td>1.171067</td><td>0.9237260</td><td>0.9438518</td></tr>\n",
       "</tbody>\n",
       "</table>\n"
      ],
      "text/latex": [
       "A tibble: 6 × 6\n",
       "\\begin{tabular}{llllll}\n",
       " Class & Area & Perimeter & AspectRatio & Compactness & Roundness\\\\\n",
       " <fct> & <dbl> & <dbl> & <dbl> & <dbl> & <dbl>\\\\\n",
       "\\hline\n",
       "\t SEKER & 28395 & 610.291 & 1.197191 & 0.9133578 & 0.9580271\\\\\n",
       "\t SEKER & 28734 & 638.018 & 1.097356 & 0.9538608 & 0.8870336\\\\\n",
       "\t SEKER & 29380 & 624.110 & 1.209713 & 0.9087742 & 0.9478495\\\\\n",
       "\t SEKER & 30008 & 645.884 & 1.153638 & 0.9283288 & 0.9039364\\\\\n",
       "\t SEKER & 30140 & 620.134 & 1.060798 & 0.9705155 & 0.9848771\\\\\n",
       "\t SEKER & 30279 & 634.927 & 1.171067 & 0.9237260 & 0.9438518\\\\\n",
       "\\end{tabular}\n"
      ],
      "text/markdown": [
       "\n",
       "A tibble: 6 × 6\n",
       "\n",
       "| Class &lt;fct&gt; | Area &lt;dbl&gt; | Perimeter &lt;dbl&gt; | AspectRatio &lt;dbl&gt; | Compactness &lt;dbl&gt; | Roundness &lt;dbl&gt; |\n",
       "|---|---|---|---|---|---|\n",
       "| SEKER | 28395 | 610.291 | 1.197191 | 0.9133578 | 0.9580271 |\n",
       "| SEKER | 28734 | 638.018 | 1.097356 | 0.9538608 | 0.8870336 |\n",
       "| SEKER | 29380 | 624.110 | 1.209713 | 0.9087742 | 0.9478495 |\n",
       "| SEKER | 30008 | 645.884 | 1.153638 | 0.9283288 | 0.9039364 |\n",
       "| SEKER | 30140 | 620.134 | 1.060798 | 0.9705155 | 0.9848771 |\n",
       "| SEKER | 30279 | 634.927 | 1.171067 | 0.9237260 | 0.9438518 |\n",
       "\n"
      ],
      "text/plain": [
       "  Class Area  Perimeter AspectRatio Compactness Roundness\n",
       "1 SEKER 28395 610.291   1.197191    0.9133578   0.9580271\n",
       "2 SEKER 28734 638.018   1.097356    0.9538608   0.8870336\n",
       "3 SEKER 29380 624.110   1.209713    0.9087742   0.9478495\n",
       "4 SEKER 30008 645.884   1.153638    0.9283288   0.9039364\n",
       "5 SEKER 30140 620.134   1.060798    0.9705155   0.9848771\n",
       "6 SEKER 30279 634.927   1.171067    0.9237260   0.9438518"
      ]
     },
     "metadata": {},
     "output_type": "display_data"
    }
   ],
   "source": [
    "beans_raw %>%\n",
    "  map(sum(is.na(.)))\n",
    "\n",
    "beans_clean <- beans_raw %>%\n",
    "                mutate(Class = as_factor(Class), Roundness = roundness, AspectRatio = AspectRation) %>%\n",
    "                select(Class, Area, Perimeter, AspectRatio, Compactness, Roundness)\n",
    "head(beans_clean)"
   ]
  },
  {
   "cell_type": "markdown",
   "metadata": {},
   "source": [
    "### Spliting Data into Training and Testing Datasets\n",
    "\n",
    "Before we proceed with exploratory data analysis, we need to split our data into testing and training data, with 75% of the data in the training set and 25% in the testing. For the following steps we will only use our training data, setting aside the testing data to use to test the validity and accuracy of our model later."
   ]
  },
  {
   "cell_type": "code",
   "execution_count": 10,
   "metadata": {},
   "outputs": [],
   "source": [
    "#random seed to ensure that the same split is done each time\n",
    "set.seed(1234)\n",
    "\n",
    "beans_split <- initial_split(beans_clean, prop=0.75, strata = Class)\n",
    "beans_train <- training(beans_split)\n",
    "beans_test <- testing(beans_split)"
   ]
  },
  {
   "cell_type": "markdown",
   "metadata": {},
   "source": [
    "### Exploratory Data Analysis\n",
    "\n",
    "The table created below presents summary statistics about the predictor varibles, inculding minimum, maximum, mean and median values as well as standard deviation. "
   ]
  },
  {
   "cell_type": "code",
   "execution_count": 150,
   "metadata": {},
   "outputs": [
    {
     "name": "stderr",
     "output_type": "stream",
     "text": [
      "Warning message in is.data.frame(x):\n",
      "“NAs introduced by coercion”\n"
     ]
    },
    {
     "data": {
      "text/html": [
       "&lt;NA&gt;"
      ],
      "text/latex": [
       "<NA>"
      ],
      "text/markdown": [
       "&lt;NA&gt;"
      ],
      "text/plain": [
       "[1] NA"
      ]
     },
     "metadata": {},
     "output_type": "display_data"
    },
    {
     "name": "stderr",
     "output_type": "stream",
     "text": [
      "Warning message in mean(as.numeric(class(select(beans_train_predictors, Area)), :\n",
      "“NAs introduced by coercion”\n"
     ]
    },
    {
     "data": {
      "text/html": [
       "&lt;NA&gt;"
      ],
      "text/latex": [
       "<NA>"
      ],
      "text/markdown": [
       "&lt;NA&gt;"
      ],
      "text/plain": [
       "[1] NA"
      ]
     },
     "metadata": {},
     "output_type": "display_data"
    },
    {
     "data": {
      "text/plain": [
       "             Statistics\n",
       "Predictors        Maximum        Mean      Median     Minimum\n",
       "  Area        254616.0000  52952.0000  44683.0000  20420.0000\n",
       "  AspectRatio      2.4300      1.5830      1.5510      1.0250\n",
       "  Compactness      0.9873      0.7999      0.8012      0.6406\n",
       "  Perimeter     1985.4000    854.6000    794.9000    524.7000\n",
       "  Roundness        0.9907      0.8734      0.8835      0.4896"
      ]
     },
     "metadata": {},
     "output_type": "display_data"
    }
   ],
   "source": [
    "#@EDWARD -CODE FOR TABLE GOES HERE\n",
    "#use beans_train (it's not scaled and I think that is better for the table)\n",
    "#Table with summary statistics for all 5 predictors (row names), the stats I think we should use are above (column names)\n",
    "beans_train_predictors <- beans_train %>%\n",
    "                       select(Area, Perimeter, Roundness, AspectRatio, Class, Compactness) #five predictors\n",
    "row_names_and_column_names = data.frame(\n",
    "       \"Predictors\" = c(\"Area\", \"Perimeter\", \"Roundness\", \"AspectRatio\", \"Compactness\"),\n",
    "       \"Statistics\" = c(\"Minimum\", \"Maximum\", \"Mean\", \"Median\", \"Minimum\")\n",
    "    )\n",
    "table_statistics <- table(row_names_and_column_names)\n",
    "area_summary <- summary(select(beans_train_predictors, Area))\n",
    "perimeter_summary <- summary(select(beans_train_predictors, Perimeter))\n",
    "compactness_summary <- summary(select(beans_train_predictors, Compactness))\n",
    "aspectratio_summary <- summary(select(beans_train_predictors, AspectRatio))\n",
    "roundness_summary <- summary(select(beans_train_predictors, Roundness))\n",
    "sd(as.numeric(class(select(beans_train_predictors, Area)), na.rm = TRUE))\n",
    "mean(as.numeric(class(select(beans_train_predictors, Area)), na.rm = TRUE))\n",
    "table_statistics[1,1] <- 254616 \n",
    "table_statistics[1,2] <- 52952        \n",
    "table_statistics[1,3] <- 44683\n",
    "table_statistics[1,4] <- 20420\n",
    "\n",
    "table_statistics[4,1] <- 1985.4    \n",
    "table_statistics[4,2] <- 854.6          \n",
    "table_statistics[4,3] <- 794.9  \n",
    "table_statistics[4,4] <- 524.7\n",
    "\n",
    "table_statistics[3,1] <- 0.9873      \n",
    "table_statistics[3,2] <- 0.7999            \n",
    "table_statistics[3,3] <- 0.8012    \n",
    "table_statistics[3,4] <- 0.6406   \n",
    "\n",
    "table_statistics[2,1] <- 2.430        \n",
    "table_statistics[2,2] <- 1.583              \n",
    "table_statistics[2,3] <- 1.551      \n",
    "table_statistics[2,4] <- 1.025\n",
    "\n",
    "table_statistics[5,1] <- 0.9907          \n",
    "table_statistics[5,2] <- 0.8734                \n",
    "table_statistics[5,3] <- 0.8835        \n",
    "table_statistics[5,4] <- 0.4896  \n",
    "table_statistics"
   ]
  },
  {
   "cell_type": "markdown",
   "metadata": {},
   "source": [
    "We also plot the estimated probability density functions of our predictor varibles to see how their distributions vary between the different classes. Before we do this we will center and scale the predictors so that we can make easier comparisions between the differnt predictors."
   ]
  },
  {
   "cell_type": "code",
   "execution_count": null,
   "metadata": {},
   "outputs": [],
   "source": [
    "#center and scale all the predictor varibles to allow comparisons across metrics \n",
    "scaling_recipe <- recipe(Class ~ ., data = beans_train) %>%\n",
    "  step_scale(all_predictors()) %>%\n",
    "  step_center(all_predictors()) %>%\n",
    "  prep()\n",
    "\n",
    "scaled_beans <- bake(scaling_recipe, beans_train)\n",
    "\n",
    "#reshape data for visulization\n",
    "expor_plot_data <- scaled_beans %>%\n",
    "                    pivot_longer(cols = Area:Roundness,\n",
    "                                 names_to = \"predictor\",\n",
    "                                 values_to = \"value\")\n",
    "\n",
    "#create density plot\n",
    "options(repr.plot.width=12, repr.plot.height=10)\n",
    "\n",
    "expor_plot <- ggplot(expor_plot_data,aes(x=value, fill=Class, colour = Class)) + \n",
    "                facet_grid(rows = vars(predictor))+\n",
    "                geom_density(alpha=0.25)+\n",
    "                labs(x = \"Scaled Value\",\n",
    "                     y = \"Density\")+\n",
    "                theme(text = element_text(size = 20))\n",
    "expor_plot"
   ]
  },
  {
   "cell_type": "markdown",
   "metadata": {},
   "source": [
    "|                            |    SEKER (N=1509)     |   BARBUNYA (N=1019)    |     BOMBAY (N=388)      |     CALI (N=1219)      |    HOROZ (N=1439)     |     SIRA (N=1985)     |   DERMASON (N=2652)   |    Total (N=10211)     | p value|\n",
    "|:---------------------------|:---------------------:|:----------------------:|:-----------------------:|:----------------------:|:---------------------:|:---------------------:|:---------------------:|:----------------------:|-------:|\n",
    "|**Area**                    |                       |                        |                         |                        |                       |                       |                       |                        | < 0.001|\n",
    "|&nbsp;&nbsp;&nbsp;Mean (SD) | 39858.831 (4800.095)  | 69814.333 (10500.599)  | 173399.023 (22725.713)  |  75626.878 (9353.098)  | 53690.681 (7270.334)  | 44741.456 (4617.227)  | 32186.319 (4663.129)  | 53098.283 (29209.983)  |        |\n",
    "|&nbsp;&nbsp;&nbsp;Range     | 28395.000 - 61150.000 | 41487.000 - 115967.000 | 117034.000 - 254616.000 | 45504.000 - 116272.000 | 33006.000 - 81929.000 | 31519.000 - 63612.000 | 20420.000 - 42159.000 | 20420.000 - 254616.000 |        |\n",
    "|**Perimeter**               |                       |                        |                         |                        |                       |                       |                       |                        | < 0.001|\n",
    "|&nbsp;&nbsp;&nbsp;Mean (SD) |   727.356 (48.072)    |   1045.951 (91.590)    |   1585.024 (114.214)    |   1057.742 (67.143)    |   920.382 (69.478)    |   796.621 (44.950)    |   666.091 (50.206)    |   855.937 (213.724)    |        |\n",
    "|&nbsp;&nbsp;&nbsp;Range     |   610.291 - 925.731   |   799.426 - 1359.763   |   1265.926 - 1985.370   |   789.770 - 1326.583   |  689.294 - 1162.588   |   668.106 - 984.282   |   524.736 - 908.265   |   524.736 - 1985.370   |        |\n",
    "|**roundness**               |                       |                        |                         |                        |                       |                       |                       |                        | < 0.001|\n",
    "|&nbsp;&nbsp;&nbsp;Mean (SD) |     0.945 (0.032)     |     0.800 (0.049)      |      0.865 (0.027)      |     0.847 (0.023)      |     0.794 (0.032)     |     0.884 (0.024)     |     0.908 (0.030)     |     0.873 (0.060)      |        |\n",
    "|&nbsp;&nbsp;&nbsp;Range     |     0.595 - 0.991     |     0.594 - 0.932      |      0.758 - 0.950      |     0.727 - 0.920      |     0.557 - 0.921     |     0.689 - 0.954     |     0.490 - 0.967     |     0.490 - 0.991      |        |\n",
    "|**AspectRation**            |                       |                        |                         |                        |                       |                       |                       |                        | < 0.001|\n",
    "|&nbsp;&nbsp;&nbsp;Mean (SD) |     1.245 (0.082)     |     1.545 (0.127)      |      1.584 (0.119)      |     1.733 (0.092)      |     2.026 (0.135)     |     1.569 (0.096)     |     1.491 (0.098)     |     1.583 (0.246)      |        |\n",
    "|&nbsp;&nbsp;&nbsp;Range     |     1.025 - 1.680     |     1.136 - 1.950      |      1.213 - 1.880      |     1.297 - 2.008      |     1.500 - 2.389     |     1.259 - 2.007     |     1.188 - 2.010     |     1.025 - 2.389      |        |"
   ]
  },
  {
   "cell_type": "code",
   "execution_count": 18,
   "metadata": {},
   "outputs": [
    {
     "data": {
      "text/plain": [
       "$Area\n",
       "$Area$Area_median\n",
       "~median(Area)\n",
       "\n",
       "$Area$Area_min\n",
       "~min(Area)\n",
       "\n",
       "$Area$Area_max\n",
       "~max(Area)\n",
       "\n",
       "\n",
       "$Perimeter\n",
       "$Perimeter$Perimeter_min\n",
       "~min(Perimeter)\n",
       "\n",
       "$Perimeter$Perimeter_median\n",
       "~median(Perimeter)\n",
       "\n",
       "$Perimeter$Perimeter_max\n",
       "~max(Perimeter)\n",
       "\n",
       "\n",
       "$roundness\n",
       "$roundness$roundness_min\n",
       "~min(Roundness)\n",
       "\n",
       "$roundness$roundness_max\n",
       "~max(Roundness)\n",
       "\n",
       "\n",
       "$AspectRation\n",
       "$AspectRation$AspectRation_min\n",
       "~min(AspectRatio)\n",
       "\n",
       "$AspectRation$AspectRation_max\n",
       "~max(AspectRatio)\n",
       "\n"
      ]
     },
     "metadata": {},
     "output_type": "display_data"
    }
   ],
   "source": [
    "our_summary1 <-\n",
    "  list(\"Area\" =\n",
    "       list(\"Area_median\"    = ~ median(Area),\n",
    "            \"Area_min\"       = ~ min(Area),\n",
    "            \"Area_max\"       = ~ max(Area)),\n",
    "       \"Perimeter\" =\n",
    "       list(\"Perimeter_min\"       = ~ min(Perimeter),\n",
    "            \"Perimeter_median\"    = ~ median(Perimeter),\n",
    "            \"Perimeter_max\"       = ~ max(Perimeter)),\n",
    "       \"roundness\" =\n",
    "       list(\"roundness_min\"       = ~ min(Roundness),\n",
    "            \"roundness_max\"       = ~ max(Roundness)),\n",
    "       \"AspectRation\" =\n",
    "       list(\"AspectRation_min\"       = ~ min(AspectRatio),\n",
    "            \"AspectRation_max\"       = ~ max(AspectRatio))\n",
    "       )\n",
    "\n",
    "our_summary1"
   ]
  },
  {
   "cell_type": "code",
   "execution_count": 19,
   "metadata": {},
   "outputs": [
    {
     "data": {
      "text/html": [
       "<table>\n",
       "<caption>A qwraps2_summary_table: 10 × 7 of type dbl</caption>\n",
       "<thead>\n",
       "\t<tr><th></th><th scope=col>SEKER (N = 1519)</th><th scope=col>BARBUNYA (N = 985)</th><th scope=col>BOMBAY (N = 387)</th><th scope=col>CALI (N = 1232)</th><th scope=col>HOROZ (N = 1447)</th><th scope=col>SIRA (N = 1979)</th><th scope=col>DERMASON (N = 2661)</th></tr>\n",
       "</thead>\n",
       "<tbody>\n",
       "\t<tr><th scope=row>Area_median</th><td>3.914100e+04</td><td>6.938600e+04</td><td>1.715660e+05</td><td>7.480350e+04</td><td>5.363900e+04</td><td>4.459100e+04</td><td>3.187400e+04</td></tr>\n",
       "\t<tr><th scope=row>Area_min</th><td>2.839500e+04</td><td>4.148700e+04</td><td>1.140040e+05</td><td>4.550400e+04</td><td>3.300600e+04</td><td>3.151900e+04</td><td>2.042000e+04</td></tr>\n",
       "\t<tr><th scope=row>Area_max</th><td>6.115000e+04</td><td>1.159670e+05</td><td>2.546160e+05</td><td>1.162720e+05</td><td>8.192900e+04</td><td>6.049300e+04</td><td>4.215900e+04</td></tr>\n",
       "\t<tr><th scope=row>Perimeter_min</th><td>6.102910e+02</td><td>7.595520e+02</td><td>1.265926e+03</td><td>7.897700e+02</td><td>6.933070e+02</td><td>6.681060e+02</td><td>5.247360e+02</td></tr>\n",
       "\t<tr><th scope=row>Perimeter_median</th><td>7.204420e+02</td><td>1.041175e+03</td><td>1.584943e+03</td><td>1.054801e+03</td><td>9.209510e+02</td><td>7.949410e+02</td><td>6.644370e+02</td></tr>\n",
       "\t<tr><th scope=row>Perimeter_max</th><td>9.333720e+02</td><td>1.359763e+03</td><td>1.985370e+03</td><td>1.326583e+03</td><td>1.162588e+03</td><td>9.418820e+02</td><td>9.082650e+02</td></tr>\n",
       "\t<tr><th scope=row>roundness_min</th><td>6.580739e-01</td><td>6.053994e-01</td><td>7.584168e-01</td><td>7.271940e-01</td><td>5.567658e-01</td><td>6.886183e-01</td><td>4.896183e-01</td></tr>\n",
       "\t<tr><th scope=row>roundness_max</th><td>9.906854e-01</td><td>9.269116e-01</td><td>9.501045e-01</td><td>9.200291e-01</td><td>9.210589e-01</td><td>9.512005e-01</td><td>9.666028e-01</td></tr>\n",
       "\t<tr><th scope=row>AspectRation_min</th><td>1.024868e+00</td><td>1.135792e+00</td><td>1.212715e+00</td><td>1.297228e+00</td><td>1.462019e+00</td><td>1.289182e+00</td><td>1.188088e+00</td></tr>\n",
       "\t<tr><th scope=row>AspectRation_max</th><td>1.679979e+00</td><td>1.950371e+00</td><td>1.933856e+00</td><td>2.004744e+00</td><td>2.430306e+00</td><td>1.983671e+00</td><td>2.010000e+00</td></tr>\n",
       "</tbody>\n",
       "</table>\n"
      ],
      "text/latex": [
       "A qwraps2\\_summary\\_table: 10 × 7 of type dbl\n",
       "\\begin{tabular}{r|lllllll}\n",
       "  & SEKER (N = 1519) & BARBUNYA (N = 985) & BOMBAY (N = 387) & CALI (N = 1232) & HOROZ (N = 1447) & SIRA (N = 1979) & DERMASON (N = 2661)\\\\\n",
       "\\hline\n",
       "\tArea\\_median & 3.914100e+04 & 6.938600e+04 & 1.715660e+05 & 7.480350e+04 & 5.363900e+04 & 4.459100e+04 & 3.187400e+04\\\\\n",
       "\tArea\\_min & 2.839500e+04 & 4.148700e+04 & 1.140040e+05 & 4.550400e+04 & 3.300600e+04 & 3.151900e+04 & 2.042000e+04\\\\\n",
       "\tArea\\_max & 6.115000e+04 & 1.159670e+05 & 2.546160e+05 & 1.162720e+05 & 8.192900e+04 & 6.049300e+04 & 4.215900e+04\\\\\n",
       "\tPerimeter\\_min & 6.102910e+02 & 7.595520e+02 & 1.265926e+03 & 7.897700e+02 & 6.933070e+02 & 6.681060e+02 & 5.247360e+02\\\\\n",
       "\tPerimeter\\_median & 7.204420e+02 & 1.041175e+03 & 1.584943e+03 & 1.054801e+03 & 9.209510e+02 & 7.949410e+02 & 6.644370e+02\\\\\n",
       "\tPerimeter\\_max & 9.333720e+02 & 1.359763e+03 & 1.985370e+03 & 1.326583e+03 & 1.162588e+03 & 9.418820e+02 & 9.082650e+02\\\\\n",
       "\troundness\\_min & 6.580739e-01 & 6.053994e-01 & 7.584168e-01 & 7.271940e-01 & 5.567658e-01 & 6.886183e-01 & 4.896183e-01\\\\\n",
       "\troundness\\_max & 9.906854e-01 & 9.269116e-01 & 9.501045e-01 & 9.200291e-01 & 9.210589e-01 & 9.512005e-01 & 9.666028e-01\\\\\n",
       "\tAspectRation\\_min & 1.024868e+00 & 1.135792e+00 & 1.212715e+00 & 1.297228e+00 & 1.462019e+00 & 1.289182e+00 & 1.188088e+00\\\\\n",
       "\tAspectRation\\_max & 1.679979e+00 & 1.950371e+00 & 1.933856e+00 & 2.004744e+00 & 2.430306e+00 & 1.983671e+00 & 2.010000e+00\\\\\n",
       "\\end{tabular}\n"
      ],
      "text/markdown": [
       "\n",
       "A qwraps2_summary_table: 10 × 7 of type dbl\n",
       "\n",
       "| <!--/--> | SEKER (N = 1519) | BARBUNYA (N = 985) | BOMBAY (N = 387) | CALI (N = 1232) | HOROZ (N = 1447) | SIRA (N = 1979) | DERMASON (N = 2661) |\n",
       "|---|---|---|---|---|---|---|---|\n",
       "| Area_median | 3.914100e+04 | 6.938600e+04 | 1.715660e+05 | 7.480350e+04 | 5.363900e+04 | 4.459100e+04 | 3.187400e+04 |\n",
       "| Area_min | 2.839500e+04 | 4.148700e+04 | 1.140040e+05 | 4.550400e+04 | 3.300600e+04 | 3.151900e+04 | 2.042000e+04 |\n",
       "| Area_max | 6.115000e+04 | 1.159670e+05 | 2.546160e+05 | 1.162720e+05 | 8.192900e+04 | 6.049300e+04 | 4.215900e+04 |\n",
       "| Perimeter_min | 6.102910e+02 | 7.595520e+02 | 1.265926e+03 | 7.897700e+02 | 6.933070e+02 | 6.681060e+02 | 5.247360e+02 |\n",
       "| Perimeter_median | 7.204420e+02 | 1.041175e+03 | 1.584943e+03 | 1.054801e+03 | 9.209510e+02 | 7.949410e+02 | 6.644370e+02 |\n",
       "| Perimeter_max | 9.333720e+02 | 1.359763e+03 | 1.985370e+03 | 1.326583e+03 | 1.162588e+03 | 9.418820e+02 | 9.082650e+02 |\n",
       "| roundness_min | 6.580739e-01 | 6.053994e-01 | 7.584168e-01 | 7.271940e-01 | 5.567658e-01 | 6.886183e-01 | 4.896183e-01 |\n",
       "| roundness_max | 9.906854e-01 | 9.269116e-01 | 9.501045e-01 | 9.200291e-01 | 9.210589e-01 | 9.512005e-01 | 9.666028e-01 |\n",
       "| AspectRation_min | 1.024868e+00 | 1.135792e+00 | 1.212715e+00 | 1.297228e+00 | 1.462019e+00 | 1.289182e+00 | 1.188088e+00 |\n",
       "| AspectRation_max | 1.679979e+00 | 1.950371e+00 | 1.933856e+00 | 2.004744e+00 | 2.430306e+00 | 1.983671e+00 | 2.010000e+00 |\n",
       "\n"
      ],
      "text/plain": [
       "                 SEKER (N = 1519) BARBUNYA (N = 985) BOMBAY (N = 387)\n",
       "Area_median      3.914100e+04     6.938600e+04       1.715660e+05    \n",
       "Area_min         2.839500e+04     4.148700e+04       1.140040e+05    \n",
       "Area_max         6.115000e+04     1.159670e+05       2.546160e+05    \n",
       "Perimeter_min    6.102910e+02     7.595520e+02       1.265926e+03    \n",
       "Perimeter_median 7.204420e+02     1.041175e+03       1.584943e+03    \n",
       "Perimeter_max    9.333720e+02     1.359763e+03       1.985370e+03    \n",
       "roundness_min    6.580739e-01     6.053994e-01       7.584168e-01    \n",
       "roundness_max    9.906854e-01     9.269116e-01       9.501045e-01    \n",
       "AspectRation_min 1.024868e+00     1.135792e+00       1.212715e+00    \n",
       "AspectRation_max 1.679979e+00     1.950371e+00       1.933856e+00    \n",
       "                 CALI (N = 1232) HOROZ (N = 1447) SIRA (N = 1979)\n",
       "Area_median      7.480350e+04    5.363900e+04     4.459100e+04   \n",
       "Area_min         4.550400e+04    3.300600e+04     3.151900e+04   \n",
       "Area_max         1.162720e+05    8.192900e+04     6.049300e+04   \n",
       "Perimeter_min    7.897700e+02    6.933070e+02     6.681060e+02   \n",
       "Perimeter_median 1.054801e+03    9.209510e+02     7.949410e+02   \n",
       "Perimeter_max    1.326583e+03    1.162588e+03     9.418820e+02   \n",
       "roundness_min    7.271940e-01    5.567658e-01     6.886183e-01   \n",
       "roundness_max    9.200291e-01    9.210589e-01     9.512005e-01   \n",
       "AspectRation_min 1.297228e+00    1.462019e+00     1.289182e+00   \n",
       "AspectRation_max 2.004744e+00    2.430306e+00     1.983671e+00   \n",
       "                 DERMASON (N = 2661)\n",
       "Area_median      3.187400e+04       \n",
       "Area_min         2.042000e+04       \n",
       "Area_max         4.215900e+04       \n",
       "Perimeter_min    5.247360e+02       \n",
       "Perimeter_median 6.644370e+02       \n",
       "Perimeter_max    9.082650e+02       \n",
       "roundness_min    4.896183e-01       \n",
       "roundness_max    9.666028e-01       \n",
       "AspectRation_min 1.188088e+00       \n",
       "AspectRation_max 2.010000e+00       "
      ]
     },
     "metadata": {},
     "output_type": "display_data"
    }
   ],
   "source": [
    "whole <- summary_table(group_by(beans_train_summary, Class), our_summary1)\n",
    "whole"
   ]
  },
  {
   "cell_type": "code",
   "execution_count": null,
   "metadata": {},
   "outputs": [],
   "source": []
  }
 ],
 "metadata": {
  "kernelspec": {
   "display_name": "R",
   "language": "R",
   "name": "ir"
  },
  "language_info": {
   "codemirror_mode": "r",
   "file_extension": ".r",
   "mimetype": "text/x-r-source",
   "name": "R",
   "pygments_lexer": "r",
   "version": "4.0.0"
  }
 },
 "nbformat": 4,
 "nbformat_minor": 4
}
