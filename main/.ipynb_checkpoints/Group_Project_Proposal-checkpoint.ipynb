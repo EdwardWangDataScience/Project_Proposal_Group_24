{
 "cells": [
  {
   "cell_type": "markdown",
   "metadata": {},
   "source": [
    "# Project Proposal: Group_24"
   ]
  },
  {
   "cell_type": "code",
   "execution_count": 1,
   "metadata": {},
   "outputs": [
    {
     "name": "stderr",
     "output_type": "stream",
     "text": [
      "── \u001b[1mAttaching packages\u001b[22m ─────────────────────────────────────── tidyverse 1.3.0 ──\n",
      "\n",
      "\u001b[32m✔\u001b[39m \u001b[34mggplot2\u001b[39m 3.3.2     \u001b[32m✔\u001b[39m \u001b[34mpurrr  \u001b[39m 0.3.4\n",
      "\u001b[32m✔\u001b[39m \u001b[34mtibble \u001b[39m 3.0.3     \u001b[32m✔\u001b[39m \u001b[34mdplyr  \u001b[39m 1.0.2\n",
      "\u001b[32m✔\u001b[39m \u001b[34mtidyr  \u001b[39m 1.1.2     \u001b[32m✔\u001b[39m \u001b[34mstringr\u001b[39m 1.4.0\n",
      "\u001b[32m✔\u001b[39m \u001b[34mreadr  \u001b[39m 1.3.1     \u001b[32m✔\u001b[39m \u001b[34mforcats\u001b[39m 0.5.0\n",
      "\n",
      "Warning message:\n",
      "“package ‘ggplot2’ was built under R version 4.0.1”\n",
      "Warning message:\n",
      "“package ‘tibble’ was built under R version 4.0.2”\n",
      "Warning message:\n",
      "“package ‘tidyr’ was built under R version 4.0.2”\n",
      "Warning message:\n",
      "“package ‘dplyr’ was built under R version 4.0.2”\n",
      "── \u001b[1mConflicts\u001b[22m ────────────────────────────────────────── tidyverse_conflicts() ──\n",
      "\u001b[31m✖\u001b[39m \u001b[34mdplyr\u001b[39m::\u001b[32mfilter()\u001b[39m masks \u001b[34mstats\u001b[39m::filter()\n",
      "\u001b[31m✖\u001b[39m \u001b[34mdplyr\u001b[39m::\u001b[32mlag()\u001b[39m    masks \u001b[34mstats\u001b[39m::lag()\n",
      "\n",
      "Warning message:\n",
      "“package ‘tidymodels’ was built under R version 4.0.2”\n",
      "── \u001b[1mAttaching packages\u001b[22m ────────────────────────────────────── tidymodels 0.1.1 ──\n",
      "\n",
      "\u001b[32m✔\u001b[39m \u001b[34mbroom    \u001b[39m 0.7.0      \u001b[32m✔\u001b[39m \u001b[34mrecipes  \u001b[39m 0.1.13\n",
      "\u001b[32m✔\u001b[39m \u001b[34mdials    \u001b[39m 0.0.9      \u001b[32m✔\u001b[39m \u001b[34mrsample  \u001b[39m 0.0.7 \n",
      "\u001b[32m✔\u001b[39m \u001b[34minfer    \u001b[39m 0.5.4      \u001b[32m✔\u001b[39m \u001b[34mtune     \u001b[39m 0.1.1 \n",
      "\u001b[32m✔\u001b[39m \u001b[34mmodeldata\u001b[39m 0.0.2      \u001b[32m✔\u001b[39m \u001b[34mworkflows\u001b[39m 0.2.0 \n",
      "\u001b[32m✔\u001b[39m \u001b[34mparsnip  \u001b[39m 0.1.3      \u001b[32m✔\u001b[39m \u001b[34myardstick\u001b[39m 0.0.7 \n",
      "\n",
      "Warning message:\n",
      "“package ‘broom’ was built under R version 4.0.2”\n",
      "Warning message:\n",
      "“package ‘dials’ was built under R version 4.0.2”\n",
      "Warning message:\n",
      "“package ‘infer’ was built under R version 4.0.3”\n",
      "Warning message:\n",
      "“package ‘modeldata’ was built under R version 4.0.1”\n",
      "Warning message:\n",
      "“package ‘parsnip’ was built under R version 4.0.2”\n",
      "Warning message:\n",
      "“package ‘recipes’ was built under R version 4.0.1”\n",
      "Warning message:\n",
      "“package ‘tune’ was built under R version 4.0.2”\n",
      "Warning message:\n",
      "“package ‘workflows’ was built under R version 4.0.2”\n",
      "Warning message:\n",
      "“package ‘yardstick’ was built under R version 4.0.2”\n",
      "── \u001b[1mConflicts\u001b[22m ───────────────────────────────────────── tidymodels_conflicts() ──\n",
      "\u001b[31m✖\u001b[39m \u001b[34mscales\u001b[39m::\u001b[32mdiscard()\u001b[39m masks \u001b[34mpurrr\u001b[39m::discard()\n",
      "\u001b[31m✖\u001b[39m \u001b[34mdplyr\u001b[39m::\u001b[32mfilter()\u001b[39m   masks \u001b[34mstats\u001b[39m::filter()\n",
      "\u001b[31m✖\u001b[39m \u001b[34mrecipes\u001b[39m::\u001b[32mfixed()\u001b[39m  masks \u001b[34mstringr\u001b[39m::fixed()\n",
      "\u001b[31m✖\u001b[39m \u001b[34mdplyr\u001b[39m::\u001b[32mlag()\u001b[39m      masks \u001b[34mstats\u001b[39m::lag()\n",
      "\u001b[31m✖\u001b[39m \u001b[34myardstick\u001b[39m::\u001b[32mspec()\u001b[39m masks \u001b[34mreadr\u001b[39m::spec()\n",
      "\u001b[31m✖\u001b[39m \u001b[34mrecipes\u001b[39m::\u001b[32mstep()\u001b[39m   masks \u001b[34mstats\u001b[39m::step()\n",
      "\n",
      "Updating HTML index of packages in '.Library'\n",
      "\n",
      "Making 'packages.html' ...\n",
      " done\n",
      "\n",
      "\n",
      "Attaching package: ‘arsenal’\n",
      "\n",
      "\n",
      "The following object is masked from ‘package:scales’:\n",
      "\n",
      "    ordinal\n",
      "\n",
      "\n",
      "Updating HTML index of packages in '.Library'\n",
      "\n",
      "Making 'packages.html' ...\n",
      " done\n",
      "\n",
      "\n",
      "Attaching package: ‘qwraps2’\n",
      "\n",
      "\n",
      "The following objects are masked from ‘package:arsenal’:\n",
      "\n",
      "    gmean, gsd\n",
      "\n",
      "\n"
     ]
    }
   ],
   "source": [
    "#load Necessary Packages for modelling.\n",
    "library(tidyverse)\n",
    "library(repr)\n",
    "library(tidymodels)\n",
    "library(\"readxl\")\n",
    "install.packages(\"arsenal\")\n",
    "library(arsenal)\n",
    "install.packages(\"qwraps2\")\n",
    "library(qwraps2)\n",
    "# define the markup language we are working in.\n",
    "# options(qwraps2_markup = \"latex\") is also supported.\n",
    "options(qwraps2_markup = \"markdown\")"
   ]
  },
  {
   "cell_type": "markdown",
   "metadata": {},
   "source": [
    "## Introduction\n",
    "\n",
    "We have chosen a publicly-available dataset from the UCI Machine Learning Repository. The particular dataset is about dry beans and the measurements and data are collected from Selcuk University in Turkey. The dataset includes 13,611 images of grains of 7 different registered dry beans that were taken with a high-resolution camera. Using this dataset, we aim to create a classification model that can predict new observations and photos of the 7 registered dry beans given to it. "
   ]
  },
  {
   "cell_type": "markdown",
   "metadata": {},
   "source": [
    "## Preliminary Exploratory Data Analysis\n",
    "### Importing Data\n",
    "\n",
    "We use the following code to import our dataset from the web:"
   ]
  },
  {
   "cell_type": "code",
   "execution_count": 2,
   "metadata": {},
   "outputs": [],
   "source": [
    "url <- \"https://archive.ics.uci.edu/ml/machine-learning-databases/00602/DryBeanDataset.zip\"\n",
    "download.file(url, \"data.zip\")\n",
    "unzip(\"data.zip\")\n",
    "beans_raw <- read_excel('./DryBeanDataset/Dry_Bean_Dataset.xlsx')"
   ]
  },
  {
   "cell_type": "markdown",
   "metadata": {},
   "source": [
    "### Data Cleaning\n",
    "\n",
    "Our data is already almost tidy, all we do is change the type of the class varible from a character to a factor."
   ]
  },
  {
   "cell_type": "code",
   "execution_count": 6,
   "metadata": {},
   "outputs": [],
   "source": [
    "beans_clean <- beans_raw %>%\n",
    "                mutate(Class = as_factor(Class))"
   ]
  },
  {
   "cell_type": "markdown",
   "metadata": {},
   "source": [
    "### Spliting Data into Training and Testing Datasets\n",
    "\n",
    "Next we split our data into testing and training data, with 75% of the data in the training set and 25% in the testing."
   ]
  },
  {
   "cell_type": "code",
   "execution_count": 7,
   "metadata": {},
   "outputs": [],
   "source": [
    "beans_split <- initial_split(beans_clean, prop=0.75, strata = Class)\n",
    "beans_train <- training(beans_split)\n",
    "beans_test <- testing(beans_split)"
   ]
  },
  {
   "cell_type": "markdown",
   "metadata": {},
   "source": [
    "### Exploratory Data Analysis"
   ]
  },
  {
   "cell_type": "code",
   "execution_count": 8,
   "metadata": {},
   "outputs": [
    {
     "name": "stderr",
     "output_type": "stream",
     "text": [
      "`summarise()` ungrouping output (override with `.groups` argument)\n",
      "\n"
     ]
    }
   ],
   "source": [
    "num_obs <- nrow(beans_train)\n",
    "\n",
    "beans_test_summmary <- beans_train %>%\n",
    "                        group_by(Class) %>%\n",
    "                        summarize(\n",
    "                            count = n(),\n",
    "                            percentage = round(n()/num_obs *100,2),\n",
    "                            mean_area = mean(Area),\n",
    "                            std_area = sd(Area),\n",
    "                            median_area = median(Area),\n",
    "                            mean_perimeter = mean(Perimeter),\n",
    "                            std_perimeter = sd(Perimeter)\n",
    "                            )"
   ]
  },
  {
   "cell_type": "code",
   "execution_count": null,
   "metadata": {},
   "outputs": [],
   "source": []
  },
  {
   "cell_type": "code",
   "execution_count": 11,
   "metadata": {},
   "outputs": [],
   "source": [
    "summary_data <- beans_train %>%\n",
    "                select(Area, Perimeter, roundness, AspectRation, Class)\n",
    "summary_table_1 <- tableby(Class~., data = summary_data)\n"
   ]
  },
  {
   "cell_type": "code",
   "execution_count": 55,
   "metadata": {},
   "outputs": [
    {
     "data": {
      "text/plain": [
       "\n",
       "\n",
       "|                            |    SEKER (N=1509)     |   BARBUNYA (N=1019)    |     BOMBAY (N=388)      |     CALI (N=1219)      |    HOROZ (N=1439)     |     SIRA (N=1985)     |   DERMASON (N=2652)   |    Total (N=10211)     | p value|\n",
       "|:---------------------------|:---------------------:|:----------------------:|:-----------------------:|:----------------------:|:---------------------:|:---------------------:|:---------------------:|:----------------------:|-------:|\n",
       "|**Area**                    |                       |                        |                         |                        |                       |                       |                       |                        | < 0.001|\n",
       "|&nbsp;&nbsp;&nbsp;Mean (SD) | 39858.831 (4800.095)  | 69814.333 (10500.599)  | 173399.023 (22725.713)  |  75626.878 (9353.098)  | 53690.681 (7270.334)  | 44741.456 (4617.227)  | 32186.319 (4663.129)  | 53098.283 (29209.983)  |        |\n",
       "|&nbsp;&nbsp;&nbsp;Range     | 28395.000 - 61150.000 | 41487.000 - 115967.000 | 117034.000 - 254616.000 | 45504.000 - 116272.000 | 33006.000 - 81929.000 | 31519.000 - 63612.000 | 20420.000 - 42159.000 | 20420.000 - 254616.000 |        |\n",
       "|**Perimeter**               |                       |                        |                         |                        |                       |                       |                       |                        | < 0.001|\n",
       "|&nbsp;&nbsp;&nbsp;Mean (SD) |   727.356 (48.072)    |   1045.951 (91.590)    |   1585.024 (114.214)    |   1057.742 (67.143)    |   920.382 (69.478)    |   796.621 (44.950)    |   666.091 (50.206)    |   855.937 (213.724)    |        |\n",
       "|&nbsp;&nbsp;&nbsp;Range     |   610.291 - 925.731   |   799.426 - 1359.763   |   1265.926 - 1985.370   |   789.770 - 1326.583   |  689.294 - 1162.588   |   668.106 - 984.282   |   524.736 - 908.265   |   524.736 - 1985.370   |        |\n",
       "|**roundness**               |                       |                        |                         |                        |                       |                       |                       |                        | < 0.001|\n",
       "|&nbsp;&nbsp;&nbsp;Mean (SD) |     0.945 (0.032)     |     0.800 (0.049)      |      0.865 (0.027)      |     0.847 (0.023)      |     0.794 (0.032)     |     0.884 (0.024)     |     0.908 (0.030)     |     0.873 (0.060)      |        |\n",
       "|&nbsp;&nbsp;&nbsp;Range     |     0.595 - 0.991     |     0.594 - 0.932      |      0.758 - 0.950      |     0.727 - 0.920      |     0.557 - 0.921     |     0.689 - 0.954     |     0.490 - 0.967     |     0.490 - 0.991      |        |\n",
       "|**AspectRation**            |                       |                        |                         |                        |                       |                       |                       |                        | < 0.001|\n",
       "|&nbsp;&nbsp;&nbsp;Mean (SD) |     1.245 (0.082)     |     1.545 (0.127)      |      1.584 (0.119)      |     1.733 (0.092)      |     2.026 (0.135)     |     1.569 (0.096)     |     1.491 (0.098)     |     1.583 (0.246)      |        |\n",
       "|&nbsp;&nbsp;&nbsp;Range     |     1.025 - 1.680     |     1.136 - 1.950      |      1.213 - 1.880      |     1.297 - 2.008      |     1.500 - 2.389     |     1.259 - 2.007     |     1.188 - 2.010     |     1.025 - 2.389      |        |\n"
      ]
     },
     "metadata": {},
     "output_type": "display_data"
    }
   ],
   "source": [
    "summary(summary_table_1)"
   ]
  },
  {
   "cell_type": "markdown",
   "metadata": {},
   "source": [
    "|                            |    SEKER (N=1509)     |   BARBUNYA (N=1019)    |     BOMBAY (N=388)      |     CALI (N=1219)      |    HOROZ (N=1439)     |     SIRA (N=1985)     |   DERMASON (N=2652)   |    Total (N=10211)     | p value|\n",
    "|:---------------------------|:---------------------:|:----------------------:|:-----------------------:|:----------------------:|:---------------------:|:---------------------:|:---------------------:|:----------------------:|-------:|\n",
    "|**Area**                    |                       |                        |                         |                        |                       |                       |                       |                        | < 0.001|\n",
    "|&nbsp;&nbsp;&nbsp;Mean (SD) | 39858.831 (4800.095)  | 69814.333 (10500.599)  | 173399.023 (22725.713)  |  75626.878 (9353.098)  | 53690.681 (7270.334)  | 44741.456 (4617.227)  | 32186.319 (4663.129)  | 53098.283 (29209.983)  |        |\n",
    "|&nbsp;&nbsp;&nbsp;Range     | 28395.000 - 61150.000 | 41487.000 - 115967.000 | 117034.000 - 254616.000 | 45504.000 - 116272.000 | 33006.000 - 81929.000 | 31519.000 - 63612.000 | 20420.000 - 42159.000 | 20420.000 - 254616.000 |        |\n",
    "|**Perimeter**               |                       |                        |                         |                        |                       |                       |                       |                        | < 0.001|\n",
    "|&nbsp;&nbsp;&nbsp;Mean (SD) |   727.356 (48.072)    |   1045.951 (91.590)    |   1585.024 (114.214)    |   1057.742 (67.143)    |   920.382 (69.478)    |   796.621 (44.950)    |   666.091 (50.206)    |   855.937 (213.724)    |        |\n",
    "|&nbsp;&nbsp;&nbsp;Range     |   610.291 - 925.731   |   799.426 - 1359.763   |   1265.926 - 1985.370   |   789.770 - 1326.583   |  689.294 - 1162.588   |   668.106 - 984.282   |   524.736 - 908.265   |   524.736 - 1985.370   |        |\n",
    "|**roundness**               |                       |                        |                         |                        |                       |                       |                       |                        | < 0.001|\n",
    "|&nbsp;&nbsp;&nbsp;Mean (SD) |     0.945 (0.032)     |     0.800 (0.049)      |      0.865 (0.027)      |     0.847 (0.023)      |     0.794 (0.032)     |     0.884 (0.024)     |     0.908 (0.030)     |     0.873 (0.060)      |        |\n",
    "|&nbsp;&nbsp;&nbsp;Range     |     0.595 - 0.991     |     0.594 - 0.932      |      0.758 - 0.950      |     0.727 - 0.920      |     0.557 - 0.921     |     0.689 - 0.954     |     0.490 - 0.967     |     0.490 - 0.991      |        |\n",
    "|**AspectRation**            |                       |                        |                         |                        |                       |                       |                       |                        | < 0.001|\n",
    "|&nbsp;&nbsp;&nbsp;Mean (SD) |     1.245 (0.082)     |     1.545 (0.127)      |      1.584 (0.119)      |     1.733 (0.092)      |     2.026 (0.135)     |     1.569 (0.096)     |     1.491 (0.098)     |     1.583 (0.246)      |        |\n",
    "|&nbsp;&nbsp;&nbsp;Range     |     1.025 - 1.680     |     1.136 - 1.950      |      1.213 - 1.880      |     1.297 - 2.008      |     1.500 - 2.389     |     1.259 - 2.007     |     1.188 - 2.010     |     1.025 - 2.389      |        |"
   ]
  },
  {
   "cell_type": "code",
   "execution_count": 9,
   "metadata": {},
   "outputs": [
    {
     "data": {
      "text/plain": [
       "$Area\n",
       "$Area$Area_median\n",
       "~median(Area)\n",
       "\n",
       "$Area$Area_min\n",
       "~min(Area)\n",
       "\n",
       "$Area$Area_max\n",
       "~max(Area)\n",
       "\n",
       "\n",
       "$Perimeter\n",
       "$Perimeter$Perimeter_min\n",
       "~min(Perimeter)\n",
       "\n",
       "$Perimeter$Perimeter_median\n",
       "~median(Perimeter)\n",
       "\n",
       "$Perimeter$Perimeter_max\n",
       "~max(Perimeter)\n",
       "\n",
       "\n",
       "$roundness\n",
       "$roundness$roundness_min\n",
       "~min(roundness)\n",
       "\n",
       "$roundness$roundness_max\n",
       "~max(roundness)\n",
       "\n",
       "\n",
       "$AspectRation\n",
       "$AspectRation$AspectRation_min\n",
       "~min(AspectRation)\n",
       "\n",
       "$AspectRation$AspectRation_max\n",
       "~max(AspectRation)\n",
       "\n"
      ]
     },
     "metadata": {},
     "output_type": "display_data"
    }
   ],
   "source": [
    "our_summary1 <-\n",
    "  list(\"Area\" =\n",
    "       list(\"Area_median\"    = ~ median(Area),\n",
    "            \"Area_min\"       = ~ min(Area),\n",
    "            \"Area_max\"       = ~ max(Area)),\n",
    "       \"Perimeter\" =\n",
    "       list(\"Perimeter_min\"       = ~ min(Perimeter),\n",
    "            \"Perimeter_median\"    = ~ median(Perimeter),\n",
    "            \"Perimeter_max\"       = ~ max(Perimeter)),\n",
    "       \"roundness\" =\n",
    "       list(\"roundness_min\"       = ~ min(roundness),\n",
    "            \"roundness_max\"       = ~ max(roundness)),\n",
    "       \"AspectRation\" =\n",
    "       list(\"AspectRation_min\"       = ~ min(AspectRation),\n",
    "            \"AspectRation_max\"       = ~ max(AspectRation))\n",
    "       )\n",
    "\n",
    "our_summary1"
   ]
  },
  {
   "cell_type": "code",
   "execution_count": 12,
   "metadata": {},
   "outputs": [
    {
     "data": {
      "text/html": [
       "<table>\n",
       "<caption>A qwraps2_summary_table: 10 × 7 of type dbl</caption>\n",
       "<thead>\n",
       "\t<tr><th></th><th scope=col>SEKER (N = 1531)</th><th scope=col>BARBUNYA (N = 1018)</th><th scope=col>BOMBAY (N = 374)</th><th scope=col>CALI (N = 1216)</th><th scope=col>HOROZ (N = 1448)</th><th scope=col>SIRA (N = 1974)</th><th scope=col>DERMASON (N = 2650)</th></tr>\n",
       "</thead>\n",
       "<tbody>\n",
       "\t<tr><th scope=row>Area_median</th><td>3.914500e+04</td><td>6.962450e+04</td><td>1.712690e+05</td><td>7.472550e+04</td><td>5.380050e+04</td><td>4.463200e+04</td><td>3.188000e+04</td></tr>\n",
       "\t<tr><th scope=row>Area_min</th><td>2.839500e+04</td><td>4.148700e+04</td><td>1.170340e+05</td><td>4.550400e+04</td><td>3.300600e+04</td><td>3.151900e+04</td><td>2.042000e+04</td></tr>\n",
       "\t<tr><th scope=row>Area_max</th><td>6.115000e+04</td><td>1.159670e+05</td><td>2.514320e+05</td><td>1.156080e+05</td><td>8.192900e+04</td><td>6.361200e+04</td><td>4.215900e+04</td></tr>\n",
       "\t<tr><th scope=row>Perimeter_min</th><td>6.102910e+02</td><td>7.595520e+02</td><td>1.265926e+03</td><td>7.897700e+02</td><td>6.892940e+02</td><td>6.701590e+02</td><td>5.247360e+02</td></tr>\n",
       "\t<tr><th scope=row>Perimeter_median</th><td>7.209460e+02</td><td>1.047225e+03</td><td>1.584163e+03</td><td>1.054111e+03</td><td>9.223760e+02</td><td>7.950225e+02</td><td>6.645600e+02</td></tr>\n",
       "\t<tr><th scope=row>Perimeter_max</th><td>9.333720e+02</td><td>1.359763e+03</td><td>1.921685e+03</td><td>1.298822e+03</td><td>1.162588e+03</td><td>9.842820e+02</td><td>7.964040e+02</td></tr>\n",
       "\t<tr><th scope=row>roundness_min</th><td>5.950484e-01</td><td>5.937083e-01</td><td>7.584168e-01</td><td>7.271940e-01</td><td>5.567658e-01</td><td>6.778369e-01</td><td>6.078674e-01</td></tr>\n",
       "\t<tr><th scope=row>roundness_max</th><td>9.906854e-01</td><td>9.319586e-01</td><td>9.501045e-01</td><td>9.200291e-01</td><td>9.210589e-01</td><td>9.541042e-01</td><td>9.666028e-01</td></tr>\n",
       "\t<tr><th scope=row>AspectRation_min</th><td>1.024868e+00</td><td>1.135792e+00</td><td>1.212715e+00</td><td>1.297228e+00</td><td>1.462019e+00</td><td>1.259251e+00</td><td>1.188088e+00</td></tr>\n",
       "\t<tr><th scope=row>AspectRation_max</th><td>1.679979e+00</td><td>1.950371e+00</td><td>1.876570e+00</td><td>2.008074e+00</td><td>2.430306e+00</td><td>2.006989e+00</td><td>2.010000e+00</td></tr>\n",
       "</tbody>\n",
       "</table>\n"
      ],
      "text/latex": [
       "A qwraps2\\_summary\\_table: 10 × 7 of type dbl\n",
       "\\begin{tabular}{r|lllllll}\n",
       "  & SEKER (N = 1531) & BARBUNYA (N = 1018) & BOMBAY (N = 374) & CALI (N = 1216) & HOROZ (N = 1448) & SIRA (N = 1974) & DERMASON (N = 2650)\\\\\n",
       "\\hline\n",
       "\tArea\\_median & 3.914500e+04 & 6.962450e+04 & 1.712690e+05 & 7.472550e+04 & 5.380050e+04 & 4.463200e+04 & 3.188000e+04\\\\\n",
       "\tArea\\_min & 2.839500e+04 & 4.148700e+04 & 1.170340e+05 & 4.550400e+04 & 3.300600e+04 & 3.151900e+04 & 2.042000e+04\\\\\n",
       "\tArea\\_max & 6.115000e+04 & 1.159670e+05 & 2.514320e+05 & 1.156080e+05 & 8.192900e+04 & 6.361200e+04 & 4.215900e+04\\\\\n",
       "\tPerimeter\\_min & 6.102910e+02 & 7.595520e+02 & 1.265926e+03 & 7.897700e+02 & 6.892940e+02 & 6.701590e+02 & 5.247360e+02\\\\\n",
       "\tPerimeter\\_median & 7.209460e+02 & 1.047225e+03 & 1.584163e+03 & 1.054111e+03 & 9.223760e+02 & 7.950225e+02 & 6.645600e+02\\\\\n",
       "\tPerimeter\\_max & 9.333720e+02 & 1.359763e+03 & 1.921685e+03 & 1.298822e+03 & 1.162588e+03 & 9.842820e+02 & 7.964040e+02\\\\\n",
       "\troundness\\_min & 5.950484e-01 & 5.937083e-01 & 7.584168e-01 & 7.271940e-01 & 5.567658e-01 & 6.778369e-01 & 6.078674e-01\\\\\n",
       "\troundness\\_max & 9.906854e-01 & 9.319586e-01 & 9.501045e-01 & 9.200291e-01 & 9.210589e-01 & 9.541042e-01 & 9.666028e-01\\\\\n",
       "\tAspectRation\\_min & 1.024868e+00 & 1.135792e+00 & 1.212715e+00 & 1.297228e+00 & 1.462019e+00 & 1.259251e+00 & 1.188088e+00\\\\\n",
       "\tAspectRation\\_max & 1.679979e+00 & 1.950371e+00 & 1.876570e+00 & 2.008074e+00 & 2.430306e+00 & 2.006989e+00 & 2.010000e+00\\\\\n",
       "\\end{tabular}\n"
      ],
      "text/markdown": [
       "\n",
       "A qwraps2_summary_table: 10 × 7 of type dbl\n",
       "\n",
       "| <!--/--> | SEKER (N = 1531) | BARBUNYA (N = 1018) | BOMBAY (N = 374) | CALI (N = 1216) | HOROZ (N = 1448) | SIRA (N = 1974) | DERMASON (N = 2650) |\n",
       "|---|---|---|---|---|---|---|---|\n",
       "| Area_median | 3.914500e+04 | 6.962450e+04 | 1.712690e+05 | 7.472550e+04 | 5.380050e+04 | 4.463200e+04 | 3.188000e+04 |\n",
       "| Area_min | 2.839500e+04 | 4.148700e+04 | 1.170340e+05 | 4.550400e+04 | 3.300600e+04 | 3.151900e+04 | 2.042000e+04 |\n",
       "| Area_max | 6.115000e+04 | 1.159670e+05 | 2.514320e+05 | 1.156080e+05 | 8.192900e+04 | 6.361200e+04 | 4.215900e+04 |\n",
       "| Perimeter_min | 6.102910e+02 | 7.595520e+02 | 1.265926e+03 | 7.897700e+02 | 6.892940e+02 | 6.701590e+02 | 5.247360e+02 |\n",
       "| Perimeter_median | 7.209460e+02 | 1.047225e+03 | 1.584163e+03 | 1.054111e+03 | 9.223760e+02 | 7.950225e+02 | 6.645600e+02 |\n",
       "| Perimeter_max | 9.333720e+02 | 1.359763e+03 | 1.921685e+03 | 1.298822e+03 | 1.162588e+03 | 9.842820e+02 | 7.964040e+02 |\n",
       "| roundness_min | 5.950484e-01 | 5.937083e-01 | 7.584168e-01 | 7.271940e-01 | 5.567658e-01 | 6.778369e-01 | 6.078674e-01 |\n",
       "| roundness_max | 9.906854e-01 | 9.319586e-01 | 9.501045e-01 | 9.200291e-01 | 9.210589e-01 | 9.541042e-01 | 9.666028e-01 |\n",
       "| AspectRation_min | 1.024868e+00 | 1.135792e+00 | 1.212715e+00 | 1.297228e+00 | 1.462019e+00 | 1.259251e+00 | 1.188088e+00 |\n",
       "| AspectRation_max | 1.679979e+00 | 1.950371e+00 | 1.876570e+00 | 2.008074e+00 | 2.430306e+00 | 2.006989e+00 | 2.010000e+00 |\n",
       "\n"
      ],
      "text/plain": [
       "                 SEKER (N = 1531) BARBUNYA (N = 1018) BOMBAY (N = 374)\n",
       "Area_median      3.914500e+04     6.962450e+04        1.712690e+05    \n",
       "Area_min         2.839500e+04     4.148700e+04        1.170340e+05    \n",
       "Area_max         6.115000e+04     1.159670e+05        2.514320e+05    \n",
       "Perimeter_min    6.102910e+02     7.595520e+02        1.265926e+03    \n",
       "Perimeter_median 7.209460e+02     1.047225e+03        1.584163e+03    \n",
       "Perimeter_max    9.333720e+02     1.359763e+03        1.921685e+03    \n",
       "roundness_min    5.950484e-01     5.937083e-01        7.584168e-01    \n",
       "roundness_max    9.906854e-01     9.319586e-01        9.501045e-01    \n",
       "AspectRation_min 1.024868e+00     1.135792e+00        1.212715e+00    \n",
       "AspectRation_max 1.679979e+00     1.950371e+00        1.876570e+00    \n",
       "                 CALI (N = 1216) HOROZ (N = 1448) SIRA (N = 1974)\n",
       "Area_median      7.472550e+04    5.380050e+04     4.463200e+04   \n",
       "Area_min         4.550400e+04    3.300600e+04     3.151900e+04   \n",
       "Area_max         1.156080e+05    8.192900e+04     6.361200e+04   \n",
       "Perimeter_min    7.897700e+02    6.892940e+02     6.701590e+02   \n",
       "Perimeter_median 1.054111e+03    9.223760e+02     7.950225e+02   \n",
       "Perimeter_max    1.298822e+03    1.162588e+03     9.842820e+02   \n",
       "roundness_min    7.271940e-01    5.567658e-01     6.778369e-01   \n",
       "roundness_max    9.200291e-01    9.210589e-01     9.541042e-01   \n",
       "AspectRation_min 1.297228e+00    1.462019e+00     1.259251e+00   \n",
       "AspectRation_max 2.008074e+00    2.430306e+00     2.006989e+00   \n",
       "                 DERMASON (N = 2650)\n",
       "Area_median      3.188000e+04       \n",
       "Area_min         2.042000e+04       \n",
       "Area_max         4.215900e+04       \n",
       "Perimeter_min    5.247360e+02       \n",
       "Perimeter_median 6.645600e+02       \n",
       "Perimeter_max    7.964040e+02       \n",
       "roundness_min    6.078674e-01       \n",
       "roundness_max    9.666028e-01       \n",
       "AspectRation_min 1.188088e+00       \n",
       "AspectRation_max 2.010000e+00       "
      ]
     },
     "metadata": {},
     "output_type": "display_data"
    }
   ],
   "source": [
    "whole <- summary_table(group_by(summary_data, Class), our_summary1)\n",
    "whole"
   ]
  },
  {
   "cell_type": "code",
   "execution_count": null,
   "metadata": {},
   "outputs": [],
   "source": []
  }
 ],
 "metadata": {
  "kernelspec": {
   "display_name": "R",
   "language": "R",
   "name": "ir"
  },
  "language_info": {
   "codemirror_mode": "r",
   "file_extension": ".r",
   "mimetype": "text/x-r-source",
   "name": "R",
   "pygments_lexer": "r",
   "version": "4.0.0"
  }
 },
 "nbformat": 4,
 "nbformat_minor": 4
}
