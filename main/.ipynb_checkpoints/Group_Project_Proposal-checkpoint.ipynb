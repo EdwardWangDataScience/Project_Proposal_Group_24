{
 "cells": [
  {
   "cell_type": "markdown",
   "metadata": {},
   "source": [
    "# Project Proposal: Group_24"
   ]
  },
  {
   "cell_type": "code",
   "execution_count": 90,
   "metadata": {},
   "outputs": [
    {
     "name": "stderr",
     "output_type": "stream",
     "text": [
      "Updating HTML index of packages in '.Library'\n",
      "\n",
      "Making 'packages.html' ...\n",
      " done\n",
      "\n"
     ]
    }
   ],
   "source": [
    "#load Necessary Packages for modelling.\n",
    "library(tidyverse)\n",
    "library(repr)\n",
    "library(tidymodels)\n",
    "library(\"readxl\")\n",
    "install.packages(\"arsenal\")\n",
    "library(arsenal)"
   ]
  },
  {
   "cell_type": "markdown",
   "metadata": {},
   "source": [
    "## Introduction\n",
    "\n",
    "We have chosen a publicly-available dataset from the UCI Machine Learning Repository. The particular dataset is about dry beans and the measurements and data are collected from Selcuk University in Turkey. The dataset includes 13,611 images of grains of 7 different registered dry beans that were taken with a high-resolution camera. Using this dataset, we aim to create a classification model that can predict new observations and photos of the 7 registered dry beans given to it. "
   ]
  },
  {
   "cell_type": "markdown",
   "metadata": {},
   "source": [
    "## Preliminary Exploratory Data Analysis\n",
    "### Importing Data\n",
    "\n",
    "We use the following code to import our dataset from the web:"
   ]
  },
  {
   "cell_type": "code",
   "execution_count": 92,
   "metadata": {},
   "outputs": [],
   "source": [
    "url <- \"https://archive.ics.uci.edu/ml/machine-learning-databases/00602/DryBeanDataset.zip\"\n",
    "download.file(url, \"data.zip\")\n",
    "unzip(\"data.zip\")\n",
    "beans_raw <- read_excel('./DryBeanDataset/Dry_Bean_Dataset.xlsx')"
   ]
  },
  {
   "cell_type": "markdown",
   "metadata": {},
   "source": [
    "### Data Cleaning\n",
    "\n",
    "Our data is already almost tidy, all we do is change the type of the class varible from a character to a factor."
   ]
  },
  {
   "cell_type": "code",
   "execution_count": 64,
   "metadata": {},
   "outputs": [],
   "source": [
    "beans_clean <- beans_raw %>%\n",
    "                mutate(Class = as_factor(Class))"
   ]
  },
  {
   "cell_type": "markdown",
   "metadata": {},
   "source": [
    "### Spliting Data into Training and Testing Datasets\n",
    "\n",
    "Next we split our data into testing and training data, with 75% of the data in the training set and 25% in the testing."
   ]
  },
  {
   "cell_type": "code",
   "execution_count": 104,
   "metadata": {},
   "outputs": [],
   "source": [
    "beans_split <- initial_split(beans_clean, prop=0.75, strata = Class)\n",
    "beans_train <- training(beans_split)\n",
    "beans_test <- testing(beans_split)"
   ]
  },
  {
   "cell_type": "markdown",
   "metadata": {},
   "source": [
    "### Exploratory Data Analysis"
   ]
  },
  {
   "cell_type": "code",
   "execution_count": 101,
   "metadata": {},
   "outputs": [
    {
     "name": "stderr",
     "output_type": "stream",
     "text": [
      "`summarise()` ungrouping output (override with `.groups` argument)\n",
      "\n"
     ]
    }
   ],
   "source": [
    "num_obs <- nrow(beans_train)\n",
    "\n",
    "beans_test_summmary <- beans_train %>%\n",
    "                        group_by(Class) %>%\n",
    "                        summarize(\n",
    "                            count = n(),\n",
    "                            percentage = round(n()/num_obs *100,2),\n",
    "                            mean_area = mean(Area),\n",
    "                            std_area = sd(Area),\n",
    "                            median_area = median(Area),\n",
    "                            mean_perimeter = mean(Perimeter),\n",
    "                            std_perimeter = sd(Perimeter)\n",
    "                            )"
   ]
  },
  {
   "cell_type": "code",
   "execution_count": 121,
   "metadata": {},
   "outputs": [],
   "source": []
  },
  {
   "cell_type": "code",
   "execution_count": 126,
   "metadata": {},
   "outputs": [
    {
     "data": {
      "text/html": [
       "<table>\n",
       "<caption>A data.frame: 12 × 17</caption>\n",
       "<thead>\n",
       "\t<tr><th scope=col>group.term</th><th scope=col>group.label</th><th scope=col>strata.term</th><th scope=col>variable</th><th scope=col>term</th><th scope=col>label</th><th scope=col>variable.type</th><th scope=col>SEKER</th><th scope=col>BARBUNYA</th><th scope=col>BOMBAY</th><th scope=col>CALI</th><th scope=col>HOROZ</th><th scope=col>SIRA</th><th scope=col>DERMASON</th><th scope=col>Total</th><th scope=col>test</th><th scope=col>p.value</th></tr>\n",
       "\t<tr><th scope=col>&lt;chr&gt;</th><th scope=col>&lt;chr&gt;</th><th scope=col>&lt;chr&gt;</th><th scope=col>&lt;chr&gt;</th><th scope=col>&lt;chr&gt;</th><th scope=col>&lt;chr&gt;</th><th scope=col>&lt;chr&gt;</th><th scope=col>&lt;list&gt;</th><th scope=col>&lt;list&gt;</th><th scope=col>&lt;list&gt;</th><th scope=col>&lt;list&gt;</th><th scope=col>&lt;list&gt;</th><th scope=col>&lt;list&gt;</th><th scope=col>&lt;list&gt;</th><th scope=col>&lt;list&gt;</th><th scope=col>&lt;chr&gt;</th><th scope=col>&lt;dbl&gt;</th></tr>\n",
       "</thead>\n",
       "<tbody>\n",
       "\t<tr><td>Class</td><td>Class</td><td></td><td>Area        </td><td>Area        </td><td>Area        </td><td>numeric</td><td></td><td></td><td></td><td></td><td></td><td></td><td></td><td></td><td>Linear Model ANOVA</td><td>0</td></tr>\n",
       "\t<tr><td>Class</td><td>Class</td><td></td><td>Area        </td><td>meansd      </td><td>Mean (SD)   </td><td>numeric</td><td>39855.511, 4782.158</td><td>69684.07, 10036.46</td><td>174033.75, 23757.29</td><td>75608.945, 9522.715</td><td>53555.368, 7347.547</td><td>44695.12, 4493.13</td><td>32101.867, 4699.249</td><td>52878.78, 29112.39</td><td>Linear Model ANOVA</td><td>0</td></tr>\n",
       "\t<tr><td>Class</td><td>Class</td><td></td><td>Area        </td><td>range       </td><td>Range       </td><td>numeric</td><td>28395, 61150</td><td>41487, 105542</td><td>114004, 254616</td><td>45504, 116272</td><td>33006, 81929</td><td>31519, 63612</td><td>20420, 42159</td><td>20420, 254616</td><td>Linear Model ANOVA</td><td>0</td></tr>\n",
       "\t<tr><td>Class</td><td>Class</td><td></td><td>Perimeter   </td><td>Perimeter   </td><td>Perimeter   </td><td>numeric</td><td></td><td></td><td></td><td></td><td></td><td></td><td></td><td></td><td>Linear Model ANOVA</td><td>0</td></tr>\n",
       "\t<tr><td>Class</td><td>Class</td><td></td><td>Perimeter   </td><td>meansd      </td><td>Mean (SD)   </td><td>numeric</td><td>727.32752, 47.78714</td><td>1044.6130, 86.9637</td><td>1589.307, 118.280</td><td>1057.99903, 68.35691</td><td>919.1214, 70.4631</td><td>795.98032, 43.81257</td><td>664.87559, 50.55357</td><td>854.0214, 213.2322</td><td>Linear Model ANOVA</td><td>0</td></tr>\n",
       "\t<tr><td>Class</td><td>Class</td><td></td><td>Perimeter   </td><td>range       </td><td>Range       </td><td>numeric</td><td>610.291, 933.372</td><td>799.426, 1338.893</td><td>1265.926, 1985.370</td><td>789.770, 1326.583</td><td>689.294, 1162.588</td><td>670.159, 984.282</td><td>524.736, 796.404</td><td>524.736, 1985.370</td><td>Linear Model ANOVA</td><td>0</td></tr>\n",
       "\t<tr><td>Class</td><td>Class</td><td></td><td>roundness   </td><td>roundness   </td><td>roundness   </td><td>numeric</td><td></td><td></td><td></td><td></td><td></td><td></td><td></td><td></td><td>Linear Model ANOVA</td><td>0</td></tr>\n",
       "\t<tr><td>Class</td><td>Class</td><td></td><td>roundness   </td><td>meansd      </td><td>Mean (SD)   </td><td>numeric</td><td>0.94475388, 0.03186939</td><td>0.80099825, 0.04695554</td><td>0.86303113, 0.02602368</td><td>0.84604941, 0.02379679</td><td>0.79433723, 0.03224303</td><td>0.88497946, 0.02323437</td><td>0.90841011, 0.02803314</td><td>0.87350244, 0.05928658</td><td>Linear Model ANOVA</td><td>0</td></tr>\n",
       "\t<tr><td>Class</td><td>Class</td><td></td><td>roundness   </td><td>range       </td><td>Range       </td><td>numeric</td><td>0.6580739, 0.9906854</td><td>0.6053994, 0.9319586</td><td>0.7824060, 0.9405877</td><td>0.7271940, 0.9200291</td><td>0.5567658, 0.9210589</td><td>0.6886183, 0.9541042</td><td>0.6078674, 0.9666028</td><td>0.5567658, 0.9906854</td><td>Linear Model ANOVA</td><td>0</td></tr>\n",
       "\t<tr><td>Class</td><td>Class</td><td></td><td>AspectRation</td><td>AspectRation</td><td>AspectRation</td><td>numeric</td><td></td><td></td><td></td><td></td><td></td><td></td><td></td><td></td><td>Linear Model ANOVA</td><td>0</td></tr>\n",
       "\t<tr><td>Class</td><td>Class</td><td></td><td>AspectRation</td><td>meansd      </td><td>Mean (SD)   </td><td>numeric</td><td>1.24535777, 0.08126907</td><td>1.5412016, 0.1263896</td><td>1.5959874, 0.1171623</td><td>1.73282554, 0.09245711</td><td>2.025192, 0.135014</td><td>1.56839329, 0.09673625</td><td>1.4912250, 0.0965603</td><td>1.5829948, 0.2467091</td><td>Linear Model ANOVA</td><td>0</td></tr>\n",
       "\t<tr><td>Class</td><td>Class</td><td></td><td>AspectRation</td><td>range       </td><td>Range       </td><td>numeric</td><td>1.024868, 1.632025</td><td>1.135792, 1.950371</td><td>1.212715, 1.933856</td><td>1.297228, 2.008074</td><td>1.499551, 2.387395</td><td>1.259251, 2.006989</td><td>1.188088, 1.965673</td><td>1.024868, 2.387395</td><td>Linear Model ANOVA</td><td>0</td></tr>\n",
       "</tbody>\n",
       "</table>\n"
      ],
      "text/latex": [
       "A data.frame: 12 × 17\n",
       "\\begin{tabular}{lllllllllllllllll}\n",
       " group.term & group.label & strata.term & variable & term & label & variable.type & SEKER & BARBUNYA & BOMBAY & CALI & HOROZ & SIRA & DERMASON & Total & test & p.value\\\\\n",
       " <chr> & <chr> & <chr> & <chr> & <chr> & <chr> & <chr> & <list> & <list> & <list> & <list> & <list> & <list> & <list> & <list> & <chr> & <dbl>\\\\\n",
       "\\hline\n",
       "\t Class & Class &  & Area         & Area         & Area         & numeric &  &  &  &  &  &  &  &  & Linear Model ANOVA & 0\\\\\n",
       "\t Class & Class &  & Area         & meansd       & Mean (SD)    & numeric & 39855.511, 4782.158 & 69684.07, 10036.46 & 174033.75, 23757.29 & 75608.945, 9522.715 & 53555.368, 7347.547 & 44695.12, 4493.13 & 32101.867, 4699.249 & 52878.78, 29112.39 & Linear Model ANOVA & 0\\\\\n",
       "\t Class & Class &  & Area         & range        & Range        & numeric & 28395, 61150 & 41487, 105542 & 114004, 254616 & 45504, 116272 & 33006, 81929 & 31519, 63612 & 20420, 42159 & 20420, 254616 & Linear Model ANOVA & 0\\\\\n",
       "\t Class & Class &  & Perimeter    & Perimeter    & Perimeter    & numeric &  &  &  &  &  &  &  &  & Linear Model ANOVA & 0\\\\\n",
       "\t Class & Class &  & Perimeter    & meansd       & Mean (SD)    & numeric & 727.32752, 47.78714 & 1044.6130, 86.9637 & 1589.307, 118.280 & 1057.99903, 68.35691 & 919.1214, 70.4631 & 795.98032, 43.81257 & 664.87559, 50.55357 & 854.0214, 213.2322 & Linear Model ANOVA & 0\\\\\n",
       "\t Class & Class &  & Perimeter    & range        & Range        & numeric & 610.291, 933.372 & 799.426, 1338.893 & 1265.926, 1985.370 & 789.770, 1326.583 & 689.294, 1162.588 & 670.159, 984.282 & 524.736, 796.404 & 524.736, 1985.370 & Linear Model ANOVA & 0\\\\\n",
       "\t Class & Class &  & roundness    & roundness    & roundness    & numeric &  &  &  &  &  &  &  &  & Linear Model ANOVA & 0\\\\\n",
       "\t Class & Class &  & roundness    & meansd       & Mean (SD)    & numeric & 0.94475388, 0.03186939 & 0.80099825, 0.04695554 & 0.86303113, 0.02602368 & 0.84604941, 0.02379679 & 0.79433723, 0.03224303 & 0.88497946, 0.02323437 & 0.90841011, 0.02803314 & 0.87350244, 0.05928658 & Linear Model ANOVA & 0\\\\\n",
       "\t Class & Class &  & roundness    & range        & Range        & numeric & 0.6580739, 0.9906854 & 0.6053994, 0.9319586 & 0.7824060, 0.9405877 & 0.7271940, 0.9200291 & 0.5567658, 0.9210589 & 0.6886183, 0.9541042 & 0.6078674, 0.9666028 & 0.5567658, 0.9906854 & Linear Model ANOVA & 0\\\\\n",
       "\t Class & Class &  & AspectRation & AspectRation & AspectRation & numeric &  &  &  &  &  &  &  &  & Linear Model ANOVA & 0\\\\\n",
       "\t Class & Class &  & AspectRation & meansd       & Mean (SD)    & numeric & 1.24535777, 0.08126907 & 1.5412016, 0.1263896 & 1.5959874, 0.1171623 & 1.73282554, 0.09245711 & 2.025192, 0.135014 & 1.56839329, 0.09673625 & 1.4912250, 0.0965603 & 1.5829948, 0.2467091 & Linear Model ANOVA & 0\\\\\n",
       "\t Class & Class &  & AspectRation & range        & Range        & numeric & 1.024868, 1.632025 & 1.135792, 1.950371 & 1.212715, 1.933856 & 1.297228, 2.008074 & 1.499551, 2.387395 & 1.259251, 2.006989 & 1.188088, 1.965673 & 1.024868, 2.387395 & Linear Model ANOVA & 0\\\\\n",
       "\\end{tabular}\n"
      ],
      "text/markdown": [
       "\n",
       "A data.frame: 12 × 17\n",
       "\n",
       "| group.term &lt;chr&gt; | group.label &lt;chr&gt; | strata.term &lt;chr&gt; | variable &lt;chr&gt; | term &lt;chr&gt; | label &lt;chr&gt; | variable.type &lt;chr&gt; | SEKER &lt;list&gt; | BARBUNYA &lt;list&gt; | BOMBAY &lt;list&gt; | CALI &lt;list&gt; | HOROZ &lt;list&gt; | SIRA &lt;list&gt; | DERMASON &lt;list&gt; | Total &lt;list&gt; | test &lt;chr&gt; | p.value &lt;dbl&gt; |\n",
       "|---|---|---|---|---|---|---|---|---|---|---|---|---|---|---|---|---|\n",
       "| Class | Class | <!----> | Area         | Area         | Area         | numeric | <!----> | <!----> | <!----> | <!----> | <!----> | <!----> | <!----> | <!----> | Linear Model ANOVA | 0 |\n",
       "| Class | Class | <!----> | Area         | meansd       | Mean (SD)    | numeric | 39855.511, 4782.158 | 69684.07, 10036.46 | 174033.75, 23757.29 | 75608.945, 9522.715 | 53555.368, 7347.547 | 44695.12, 4493.13 | 32101.867, 4699.249 | 52878.78, 29112.39 | Linear Model ANOVA | 0 |\n",
       "| Class | Class | <!----> | Area         | range        | Range        | numeric | 28395, 61150 | 41487, 105542 | 114004, 254616 | 45504, 116272 | 33006, 81929 | 31519, 63612 | 20420, 42159 | 20420, 254616 | Linear Model ANOVA | 0 |\n",
       "| Class | Class | <!----> | Perimeter    | Perimeter    | Perimeter    | numeric | <!----> | <!----> | <!----> | <!----> | <!----> | <!----> | <!----> | <!----> | Linear Model ANOVA | 0 |\n",
       "| Class | Class | <!----> | Perimeter    | meansd       | Mean (SD)    | numeric | 727.32752, 47.78714 | 1044.6130, 86.9637 | 1589.307, 118.280 | 1057.99903, 68.35691 | 919.1214, 70.4631 | 795.98032, 43.81257 | 664.87559, 50.55357 | 854.0214, 213.2322 | Linear Model ANOVA | 0 |\n",
       "| Class | Class | <!----> | Perimeter    | range        | Range        | numeric | 610.291, 933.372 | 799.426, 1338.893 | 1265.926, 1985.370 | 789.770, 1326.583 | 689.294, 1162.588 | 670.159, 984.282 | 524.736, 796.404 | 524.736, 1985.370 | Linear Model ANOVA | 0 |\n",
       "| Class | Class | <!----> | roundness    | roundness    | roundness    | numeric | <!----> | <!----> | <!----> | <!----> | <!----> | <!----> | <!----> | <!----> | Linear Model ANOVA | 0 |\n",
       "| Class | Class | <!----> | roundness    | meansd       | Mean (SD)    | numeric | 0.94475388, 0.03186939 | 0.80099825, 0.04695554 | 0.86303113, 0.02602368 | 0.84604941, 0.02379679 | 0.79433723, 0.03224303 | 0.88497946, 0.02323437 | 0.90841011, 0.02803314 | 0.87350244, 0.05928658 | Linear Model ANOVA | 0 |\n",
       "| Class | Class | <!----> | roundness    | range        | Range        | numeric | 0.6580739, 0.9906854 | 0.6053994, 0.9319586 | 0.7824060, 0.9405877 | 0.7271940, 0.9200291 | 0.5567658, 0.9210589 | 0.6886183, 0.9541042 | 0.6078674, 0.9666028 | 0.5567658, 0.9906854 | Linear Model ANOVA | 0 |\n",
       "| Class | Class | <!----> | AspectRation | AspectRation | AspectRation | numeric | <!----> | <!----> | <!----> | <!----> | <!----> | <!----> | <!----> | <!----> | Linear Model ANOVA | 0 |\n",
       "| Class | Class | <!----> | AspectRation | meansd       | Mean (SD)    | numeric | 1.24535777, 0.08126907 | 1.5412016, 0.1263896 | 1.5959874, 0.1171623 | 1.73282554, 0.09245711 | 2.025192, 0.135014 | 1.56839329, 0.09673625 | 1.4912250, 0.0965603 | 1.5829948, 0.2467091 | Linear Model ANOVA | 0 |\n",
       "| Class | Class | <!----> | AspectRation | range        | Range        | numeric | 1.024868, 1.632025 | 1.135792, 1.950371 | 1.212715, 1.933856 | 1.297228, 2.008074 | 1.499551, 2.387395 | 1.259251, 2.006989 | 1.188088, 1.965673 | 1.024868, 2.387395 | Linear Model ANOVA | 0 |\n",
       "\n"
      ],
      "text/plain": [
       "   group.term group.label strata.term variable     term         label       \n",
       "1  Class      Class                   Area         Area         Area        \n",
       "2  Class      Class                   Area         meansd       Mean (SD)   \n",
       "3  Class      Class                   Area         range        Range       \n",
       "4  Class      Class                   Perimeter    Perimeter    Perimeter   \n",
       "5  Class      Class                   Perimeter    meansd       Mean (SD)   \n",
       "6  Class      Class                   Perimeter    range        Range       \n",
       "7  Class      Class                   roundness    roundness    roundness   \n",
       "8  Class      Class                   roundness    meansd       Mean (SD)   \n",
       "9  Class      Class                   roundness    range        Range       \n",
       "10 Class      Class                   AspectRation AspectRation AspectRation\n",
       "11 Class      Class                   AspectRation meansd       Mean (SD)   \n",
       "12 Class      Class                   AspectRation range        Range       \n",
       "   variable.type SEKER                  BARBUNYA              \n",
       "1  numeric                                                    \n",
       "2  numeric       39855.511, 4782.158    69684.07, 10036.46    \n",
       "3  numeric       28395, 61150           41487, 105542         \n",
       "4  numeric                                                    \n",
       "5  numeric       727.32752, 47.78714    1044.6130, 86.9637    \n",
       "6  numeric       610.291, 933.372       799.426, 1338.893     \n",
       "7  numeric                                                    \n",
       "8  numeric       0.94475388, 0.03186939 0.80099825, 0.04695554\n",
       "9  numeric       0.6580739, 0.9906854   0.6053994, 0.9319586  \n",
       "10 numeric                                                    \n",
       "11 numeric       1.24535777, 0.08126907 1.5412016, 0.1263896  \n",
       "12 numeric       1.024868, 1.632025     1.135792, 1.950371    \n",
       "   BOMBAY                 CALI                   HOROZ                 \n",
       "1                                                                      \n",
       "2  174033.75, 23757.29    75608.945, 9522.715    53555.368, 7347.547   \n",
       "3  114004, 254616         45504, 116272          33006, 81929          \n",
       "4                                                                      \n",
       "5  1589.307, 118.280      1057.99903, 68.35691   919.1214, 70.4631     \n",
       "6  1265.926, 1985.370     789.770, 1326.583      689.294, 1162.588     \n",
       "7                                                                      \n",
       "8  0.86303113, 0.02602368 0.84604941, 0.02379679 0.79433723, 0.03224303\n",
       "9  0.7824060, 0.9405877   0.7271940, 0.9200291   0.5567658, 0.9210589  \n",
       "10                                                                     \n",
       "11 1.5959874, 0.1171623   1.73282554, 0.09245711 2.025192, 0.135014    \n",
       "12 1.212715, 1.933856     1.297228, 2.008074     1.499551, 2.387395    \n",
       "   SIRA                   DERMASON               Total                 \n",
       "1                                                                      \n",
       "2  44695.12, 4493.13      32101.867, 4699.249    52878.78, 29112.39    \n",
       "3  31519, 63612           20420, 42159           20420, 254616         \n",
       "4                                                                      \n",
       "5  795.98032, 43.81257    664.87559, 50.55357    854.0214, 213.2322    \n",
       "6  670.159, 984.282       524.736, 796.404       524.736, 1985.370     \n",
       "7                                                                      \n",
       "8  0.88497946, 0.02323437 0.90841011, 0.02803314 0.87350244, 0.05928658\n",
       "9  0.6886183, 0.9541042   0.6078674, 0.9666028   0.5567658, 0.9906854  \n",
       "10                                                                     \n",
       "11 1.56839329, 0.09673625 1.4912250, 0.0965603   1.5829948, 0.2467091  \n",
       "12 1.259251, 2.006989     1.188088, 1.965673     1.024868, 2.387395    \n",
       "   test               p.value\n",
       "1  Linear Model ANOVA 0      \n",
       "2  Linear Model ANOVA 0      \n",
       "3  Linear Model ANOVA 0      \n",
       "4  Linear Model ANOVA 0      \n",
       "5  Linear Model ANOVA 0      \n",
       "6  Linear Model ANOVA 0      \n",
       "7  Linear Model ANOVA 0      \n",
       "8  Linear Model ANOVA 0      \n",
       "9  Linear Model ANOVA 0      \n",
       "10 Linear Model ANOVA 0      \n",
       "11 Linear Model ANOVA 0      \n",
       "12 Linear Model ANOVA 0      "
      ]
     },
     "metadata": {},
     "output_type": "display_data"
    }
   ],
   "source": [
    "summary_data <- beans_train %>%\n",
    "                    select(Area, Perimeter, roundness, AspectRation, Class)\n",
    "summary_table_1 <- tableby(Class~., data = summary_data)\n",
    "\n",
    "summary_table <- summary(summary_table_1)\n",
    "as.data.frame(summary_table_1)"
   ]
  },
  {
   "cell_type": "code",
   "execution_count": null,
   "metadata": {},
   "outputs": [],
   "source": []
  }
 ],
 "metadata": {
  "kernelspec": {
   "display_name": "R",
   "language": "R",
   "name": "ir"
  },
  "language_info": {
   "codemirror_mode": "r",
   "file_extension": ".r",
   "mimetype": "text/x-r-source",
   "name": "R",
   "pygments_lexer": "r",
   "version": "4.0.0"
  }
 },
 "nbformat": 4,
 "nbformat_minor": 4
}
